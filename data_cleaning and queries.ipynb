{
 "cells": [
  {
   "cell_type": "markdown",
   "metadata": {
    "application/vnd.databricks.v1+cell": {
     "cellMetadata": {},
     "inputWidgets": {},
     "nuid": "8b22c31a-7d83-483c-b9d8-e611f0a6aa2a",
     "showTitle": false,
     "title": ""
    }
   },
   "source": [
    "# Create and load the data"
   ]
  },
  {
   "cell_type": "code",
   "execution_count": 0,
   "metadata": {
    "application/vnd.databricks.v1+cell": {
     "cellMetadata": {
      "byteLimit": 2048000,
      "rowLimit": 10000
     },
     "collapsed": true,
     "inputWidgets": {},
     "nuid": "e6837050-9da7-4169-802d-60a7e00966c8",
     "showTitle": false,
     "title": ""
    }
   },
   "outputs": [
    {
     "output_type": "display_data",
     "data": {
      "text/html": [
       "<style scoped>\n",
       "  .ansiout {\n",
       "    display: block;\n",
       "    unicode-bidi: embed;\n",
       "    white-space: pre-wrap;\n",
       "    word-wrap: break-word;\n",
       "    word-break: break-all;\n",
       "    font-family: \"Menlo\", \"Monaco\", \"Consolas\", \"Ubuntu Mono\", \"Source Code Pro\", monospace;\n",
       "    font-size: 13px;\n",
       "    color: #555;\n",
       "    margin-left: 4px;\n",
       "    line-height: 19px;\n",
       "  }\n",
       "</style>\n",
       "<div class=\"ansiout\"></div>"
      ]
     },
     "metadata": {
      "application/vnd.databricks.v1+output": {
       "addedWidgets": {},
       "arguments": {},
       "data": "<div class=\"ansiout\"></div>",
       "datasetInfos": [],
       "metadata": {},
       "removedWidgets": [],
       "type": "html"
      }
     },
     "output_type": "display_data"
    }
   ],
   "source": [
    "# Create single DataFrame\n",
    "def create_df(topic: str):\n",
    "    '''\n",
    "    Creates a dataframe from the data in the S3 bucket from a given topic.\n",
    "\n",
    "    Parameters\n",
    "    ----------\n",
    "    topic: str\n",
    "        The name of the Kafka topic, which coincides with the name of the directory inside bucket-name/topics.\n",
    "    \n",
    "    Returns\n",
    "    -------\n",
    "    df : pyspark.sql.dataframe.DataFrame\n",
    "        The dataframe containing the data stored in the bucket.\n",
    "    '''\n",
    "    file_location = \"/mnt/user-0a6a638f5991-mounted-bucket/topics/\"+ topic + \"/partition=0/*.json\" \n",
    "    file_type = \"json\"\n",
    "    # Ask Spark to infer the schema\n",
    "    infer_schema = \"true\"\n",
    "    # Read in JSONs from mounted S3 bucket\n",
    "    df = spark.read.format(file_type) \\\n",
    "    .option(\"inferSchema\", infer_schema) \\\n",
    "    .load(file_location)\n",
    "    # Display Spark dataframe to check its content\n",
    "    return df"
   ]
  },
  {
   "cell_type": "code",
   "execution_count": 0,
   "metadata": {
    "application/vnd.databricks.v1+cell": {
     "cellMetadata": {
      "byteLimit": 2048000,
      "rowLimit": 10000
     },
     "collapsed": true,
     "inputWidgets": {},
     "nuid": "9a73d98d-a92b-499b-823a-9c8c0a0af2ed",
     "showTitle": false,
     "title": ""
    }
   },
   "outputs": [
    {
     "output_type": "display_data",
     "data": {
      "text/html": [
       "<style scoped>\n",
       "  .ansiout {\n",
       "    display: block;\n",
       "    unicode-bidi: embed;\n",
       "    white-space: pre-wrap;\n",
       "    word-wrap: break-word;\n",
       "    word-break: break-all;\n",
       "    font-family: \"Menlo\", \"Monaco\", \"Consolas\", \"Ubuntu Mono\", \"Source Code Pro\", monospace;\n",
       "    font-size: 13px;\n",
       "    color: #555;\n",
       "    margin-left: 4px;\n",
       "    line-height: 19px;\n",
       "  }\n",
       "</style>\n",
       "<div class=\"ansiout\"></div>"
      ]
     },
     "metadata": {
      "application/vnd.databricks.v1+output": {
       "addedWidgets": {},
       "arguments": {},
       "data": "<div class=\"ansiout\"></div>",
       "datasetInfos": [],
       "metadata": {},
       "removedWidgets": [],
       "type": "html"
      }
     },
     "output_type": "display_data"
    }
   ],
   "source": [
    "# Using method above, create all three dataframes and return them\n",
    "def load_dfs():\n",
    "    '''\n",
    "    Loads the three dataframee for the pin, geo, and user data.\n",
    "\n",
    "    Returns\n",
    "    -------\n",
    "    df_pin : pyspark.sql.dataframe.DataFrame\n",
    "        The Pinterest post data.\n",
    "    df_geo : pyspark.sql.dataframe.DataFrame\n",
    "        The Pinterest geolocation data.\n",
    "    df_return : pyspark.sql.dataframe.DataFrame\n",
    "        The Pinterest user data.\n",
    "    '''\n",
    "    df_pin = create_df(\"0a6a638f5991.pin\")\n",
    "    df_geo = create_df(\"0a6a638f5991.geo\")\n",
    "    df_user = create_df(\"0a6a638f5991.user\")\n",
    "    return df_pin, df_geo, df_user"
   ]
  },
  {
   "cell_type": "code",
   "execution_count": 0,
   "metadata": {
    "application/vnd.databricks.v1+cell": {
     "cellMetadata": {
      "byteLimit": 2048000,
      "rowLimit": 10000
     },
     "collapsed": true,
     "inputWidgets": {},
     "nuid": "ce6b51ef-9e48-4a54-8ee6-1554d3c1dae2",
     "showTitle": false,
     "title": ""
    }
   },
   "outputs": [
    {
     "output_type": "display_data",
     "data": {
      "text/html": [
       "<style scoped>\n",
       "  .ansiout {\n",
       "    display: block;\n",
       "    unicode-bidi: embed;\n",
       "    white-space: pre-wrap;\n",
       "    word-wrap: break-word;\n",
       "    word-break: break-all;\n",
       "    font-family: \"Menlo\", \"Monaco\", \"Consolas\", \"Ubuntu Mono\", \"Source Code Pro\", monospace;\n",
       "    font-size: 13px;\n",
       "    color: #555;\n",
       "    margin-left: 4px;\n",
       "    line-height: 19px;\n",
       "  }\n",
       "</style>\n",
       "<div class=\"ansiout\"></div>"
      ]
     },
     "metadata": {
      "application/vnd.databricks.v1+output": {
       "addedWidgets": {},
       "arguments": {},
       "data": "<div class=\"ansiout\"></div>",
       "datasetInfos": [],
       "metadata": {},
       "removedWidgets": [],
       "type": "html"
      }
     },
     "output_type": "display_data"
    }
   ],
   "source": [
    "########## IMPORTS ##########\n",
    "from pyspark.sql.functions import regexp_replace\n",
    "# from pyspark.sql.types import IntegerType\n",
    "from pyspark.sql.functions import col\n",
    "from pyspark.sql.functions import array\n",
    "from pyspark.sql.functions import concat_ws\n",
    "import pyspark\n",
    "import multiprocessing"
   ]
  },
  {
   "cell_type": "markdown",
   "metadata": {
    "application/vnd.databricks.v1+cell": {
     "cellMetadata": {},
     "inputWidgets": {},
     "nuid": "fe4d60f6-3f2e-43a7-a8bf-49a210e6fe69",
     "showTitle": false,
     "title": ""
    }
   },
   "source": [
    "# Data cleaning"
   ]
  },
  {
   "cell_type": "code",
   "execution_count": 0,
   "metadata": {
    "application/vnd.databricks.v1+cell": {
     "cellMetadata": {
      "byteLimit": 2048000,
      "rowLimit": 10000
     },
     "collapsed": true,
     "inputWidgets": {},
     "nuid": "c1b977bc-f625-49c9-b928-e1cf90bbbbed",
     "showTitle": false,
     "title": ""
    }
   },
   "outputs": [
    {
     "output_type": "display_data",
     "data": {
      "text/html": [
       "<style scoped>\n",
       "  .ansiout {\n",
       "    display: block;\n",
       "    unicode-bidi: embed;\n",
       "    white-space: pre-wrap;\n",
       "    word-wrap: break-word;\n",
       "    word-break: break-all;\n",
       "    font-family: \"Menlo\", \"Monaco\", \"Consolas\", \"Ubuntu Mono\", \"Source Code Pro\", monospace;\n",
       "    font-size: 13px;\n",
       "    color: #555;\n",
       "    margin-left: 4px;\n",
       "    line-height: 19px;\n",
       "  }\n",
       "</style>\n",
       "<div class=\"ansiout\"></div>"
      ]
     },
     "metadata": {
      "application/vnd.databricks.v1+output": {
       "addedWidgets": {},
       "arguments": {},
       "data": "<div class=\"ansiout\"></div>",
       "datasetInfos": [],
       "metadata": {},
       "removedWidgets": [],
       "type": "html"
      }
     },
     "output_type": "display_data"
    }
   ],
   "source": [
    "# Clean pin data\n",
    "def clean_pin_data(pin_df: pyspark.sql.dataframe.DataFrame):\n",
    "    '''\n",
    "    Cleans the DataFrame that contains information about Pinterest posts.\n",
    "\n",
    "    Parameters\n",
    "    ----------\n",
    "    pin_df : pyspark.sql.dataframe.DataFrame\n",
    "        The DataFrame to be cleaned.\n",
    "        The DataFrame must contain the columns: category, description, downloaded, follower_count, image_src, index, is_image_or_video, poster_name, save_location, tag_list, title, unique_id.\n",
    "    \n",
    "    Returns\n",
    "    -------\n",
    "    df : pyspark.sql.dataframe.DataFrame\n",
    "        The cleaned Pinterest post data.\n",
    "    '''\n",
    "    df = pin_df.dropDuplicates().alias('df')\n",
    "    #df = pin_df.alias('df')\n",
    "\n",
    "    # replace several non-values with 'None' in different columns\n",
    "    df = df  \\\n",
    "        .replace('User Info Error', None, ['follower_count', 'poster_name'])  \\\n",
    "        .replace('N,o, ,T,a,g,s, ,A,v,a,i,l,a,b,l,e', None, 'tag_list') \\\n",
    "        .replace('No description available Story format', None, 'description') \\\n",
    "        .replace('Image src error.', None, 'image_src') \\\n",
    "        .replace('No Title Data Available', None, 'title')\n",
    "\n",
    "    # convert all 'k' and 'M' in column 'follower_count' to '000' and '000000' respectively\n",
    "    df = df\\\n",
    "        .withColumn('follower_count', regexp_replace('follower_count', 'k', '000')) \\\n",
    "        .withColumn('follower_count', regexp_replace('follower_count', 'M', '000000'))\n",
    "\n",
    "    # cast 'follower_count' column to integer\n",
    "    df = df.withColumn('follower_count', df.follower_count.cast('int'))\n",
    "    # cast index to int\n",
    "    df = df.withColumn('index', df.index.cast('int'))\n",
    "\n",
    "    # remove the \"Local save in \" bit in the save_location column so that only the path is given\n",
    "    df = df\\\n",
    "        .withColumn('save_location', regexp_replace('save_location', 'Local save in ', ''))\n",
    "    # rename column\n",
    "    df = df.withColumnRenamed('index', 'ind')\n",
    "\n",
    "    # reorder dataframe columns\n",
    "    df = df.select('ind','unique_id','title','description','follower_count','poster_name','tag_list','is_image_or_video','image_src','save_location','category')\n",
    "\n",
    "    return df\n"
   ]
  },
  {
   "cell_type": "code",
   "execution_count": 0,
   "metadata": {
    "application/vnd.databricks.v1+cell": {
     "cellMetadata": {
      "byteLimit": 2048000,
      "rowLimit": 10000
     },
     "collapsed": true,
     "inputWidgets": {},
     "nuid": "bb3eec71-fb67-4af1-945f-7a7d969f2762",
     "showTitle": false,
     "title": ""
    }
   },
   "outputs": [
    {
     "output_type": "display_data",
     "data": {
      "text/html": [
       "<style scoped>\n",
       "  .ansiout {\n",
       "    display: block;\n",
       "    unicode-bidi: embed;\n",
       "    white-space: pre-wrap;\n",
       "    word-wrap: break-word;\n",
       "    word-break: break-all;\n",
       "    font-family: \"Menlo\", \"Monaco\", \"Consolas\", \"Ubuntu Mono\", \"Source Code Pro\", monospace;\n",
       "    font-size: 13px;\n",
       "    color: #555;\n",
       "    margin-left: 4px;\n",
       "    line-height: 19px;\n",
       "  }\n",
       "</style>\n",
       "<div class=\"ansiout\"></div>"
      ]
     },
     "metadata": {
      "application/vnd.databricks.v1+output": {
       "addedWidgets": {},
       "arguments": {},
       "data": "<div class=\"ansiout\"></div>",
       "datasetInfos": [],
       "metadata": {},
       "removedWidgets": [],
       "type": "html"
      }
     },
     "output_type": "display_data"
    }
   ],
   "source": [
    "# Clean geo data\n",
    "def clean_geo_data(geo_df: pyspark.sql.dataframe.DataFrame):\n",
    "    '''\n",
    "    Cleans the DataFrame that contains information about geolocation.\n",
    "\n",
    "    Parameters\n",
    "    ----------\n",
    "    geo_df : pyspark.sql.dataframe.DataFrame\n",
    "        The DataFrame to be cleaned.\n",
    "        The DataFrame must contain the columns: country, ind, latitude, longitude, timestamp.\n",
    "    \n",
    "    Returns\n",
    "    -------\n",
    "    df : pyspark.sql.dataframe.DataFrame\n",
    "        The cleaned geolocation data.\n",
    "    '''\n",
    "    df = geo_df.dropDuplicates().alias('df')\n",
    "    #df = geo_df.alias('df')\n",
    "\n",
    "    # cast latitude and longitude to 'float', then merge them into an array column called 'coordinates'\n",
    "    df = df\\\n",
    "        .withColumn('latitude', df.latitude.cast('float'))\\\n",
    "        .withColumn('longitude', df.longitude.cast('float'))\n",
    "    df = df\\\n",
    "        .withColumn('coordinates', array(df.latitude, df.longitude))\n",
    "    # cast column named 'timestamp' to the type 'timestamp. cast columnd 'ind' to type 'int'\n",
    "    df = df\\\n",
    "        .withColumn('timestamp', df.timestamp.cast('timestamp'))\\\n",
    "        .withColumn('ind',df.ind.cast('int'))\n",
    "    # drop 'longitude' and 'latitude' columns and reorder the columns\n",
    "    df = df\\\n",
    "        .select('ind', 'country', 'coordinates', 'timestamp')\n",
    "    \n",
    "    return df"
   ]
  },
  {
   "cell_type": "code",
   "execution_count": 0,
   "metadata": {
    "application/vnd.databricks.v1+cell": {
     "cellMetadata": {
      "byteLimit": 2048000,
      "rowLimit": 10000
     },
     "collapsed": true,
     "inputWidgets": {},
     "nuid": "21801684-f444-4909-8999-82e365e9c081",
     "showTitle": false,
     "title": ""
    }
   },
   "outputs": [
    {
     "output_type": "display_data",
     "data": {
      "text/html": [
       "<style scoped>\n",
       "  .ansiout {\n",
       "    display: block;\n",
       "    unicode-bidi: embed;\n",
       "    white-space: pre-wrap;\n",
       "    word-wrap: break-word;\n",
       "    word-break: break-all;\n",
       "    font-family: \"Menlo\", \"Monaco\", \"Consolas\", \"Ubuntu Mono\", \"Source Code Pro\", monospace;\n",
       "    font-size: 13px;\n",
       "    color: #555;\n",
       "    margin-left: 4px;\n",
       "    line-height: 19px;\n",
       "  }\n",
       "</style>\n",
       "<div class=\"ansiout\"></div>"
      ]
     },
     "metadata": {
      "application/vnd.databricks.v1+output": {
       "addedWidgets": {},
       "arguments": {},
       "data": "<div class=\"ansiout\"></div>",
       "datasetInfos": [],
       "metadata": {},
       "removedWidgets": [],
       "type": "html"
      }
     },
     "output_type": "display_data"
    }
   ],
   "source": [
    "# Clean user data\n",
    "def clean_user_data(user_df: pyspark.sql.dataframe.DataFrame):\n",
    "    '''\n",
    "    Cleans the DataFrame that contains information about users.\n",
    "\n",
    "    Parameters\n",
    "    ----------\n",
    "    geo_df : pyspark.sql.dataframe.DataFrame\n",
    "        The DataFrame to be cleaned.\n",
    "        The DataFrame must contain the columns: age, date_joined, first_name, ind, last_name.\n",
    "    \n",
    "    Returns\n",
    "    -------\n",
    "    df : pyspark.sql.dataframe.DataFrame\n",
    "        The cleaned users data.\n",
    "    '''\n",
    "\n",
    "    df = user_df.dropDuplicates().alias('df')\n",
    "    #df = user_df.alias('df')\n",
    "\n",
    "    # create column 'user_name' made up by concatenating 'first_name' and 'last_name'\n",
    "    df = df\\\n",
    "        .withColumn('user_name', concat_ws(' ', df.first_name, df.last_name))\n",
    "\n",
    "    # cast 'ind' and 'age' to an 'int' type, and date_joined' to a 'timestamp' type.\n",
    "    df = df\\\n",
    "        .withColumn('date_joined', df.date_joined.cast('timestamp'))\\\n",
    "        .withColumn('ind', df.ind.cast('int'))\\\n",
    "        .withColumn('age', df.age.cast('int'))\n",
    "\n",
    "    # drop 'first_name' and 'last_name', and reorder the columns\n",
    "    df = df\\\n",
    "        .select('ind', 'user_name', 'age', 'date_joined')\n",
    "\n",
    "    return df"
   ]
  },
  {
   "cell_type": "code",
   "execution_count": 0,
   "metadata": {
    "application/vnd.databricks.v1+cell": {
     "cellMetadata": {
      "byteLimit": 2048000,
      "rowLimit": 10000
     },
     "collapsed": true,
     "inputWidgets": {},
     "nuid": "13258561-ed47-432d-9afb-abc9e7ee95cd",
     "showTitle": false,
     "title": ""
    }
   },
   "outputs": [
    {
     "output_type": "display_data",
     "data": {
      "text/html": [
       "<style scoped>\n",
       "  .ansiout {\n",
       "    display: block;\n",
       "    unicode-bidi: embed;\n",
       "    white-space: pre-wrap;\n",
       "    word-wrap: break-word;\n",
       "    word-break: break-all;\n",
       "    font-family: \"Menlo\", \"Monaco\", \"Consolas\", \"Ubuntu Mono\", \"Source Code Pro\", monospace;\n",
       "    font-size: 13px;\n",
       "    color: #555;\n",
       "    margin-left: 4px;\n",
       "    line-height: 19px;\n",
       "  }\n",
       "</style>\n",
       "<div class=\"ansiout\"></div>"
      ]
     },
     "metadata": {
      "application/vnd.databricks.v1+output": {
       "addedWidgets": {},
       "arguments": {},
       "data": "<div class=\"ansiout\"></div>",
       "datasetInfos": [],
       "metadata": {},
       "removedWidgets": [],
       "type": "html"
      }
     },
     "output_type": "display_data"
    }
   ],
   "source": [
    "# Load the data, then clean it, and return the cleane data\n",
    "def load_cleaned_data():\n",
    "    df_pin, df_geo, df_user = load_dfs()\n",
    "    df_pin = clean_pin_data(df_pin)\n",
    "    df_geo = clean_geo_data(df_geo)\n",
    "    df_user = clean_user_data(df_user)\n",
    "    return df_pin, df_geo, df_user"
   ]
  },
  {
   "cell_type": "markdown",
   "metadata": {
    "application/vnd.databricks.v1+cell": {
     "cellMetadata": {},
     "inputWidgets": {},
     "nuid": "0216aca2-1590-48dc-b9a2-67e507dc346a",
     "showTitle": false,
     "title": ""
    }
   },
   "source": [
    "# Queries"
   ]
  },
  {
   "cell_type": "code",
   "execution_count": 0,
   "metadata": {
    "application/vnd.databricks.v1+cell": {
     "cellMetadata": {
      "byteLimit": 2048000,
      "rowLimit": 10000
     },
     "collapsed": true,
     "inputWidgets": {},
     "nuid": "53862c1a-f019-4a19-b2ac-8cc2bdc15068",
     "showTitle": false,
     "title": ""
    }
   },
   "outputs": [
    {
     "output_type": "display_data",
     "data": {
      "text/html": [
       "<style scoped>\n",
       "  .ansiout {\n",
       "    display: block;\n",
       "    unicode-bidi: embed;\n",
       "    white-space: pre-wrap;\n",
       "    word-wrap: break-word;\n",
       "    word-break: break-all;\n",
       "    font-family: \"Menlo\", \"Monaco\", \"Consolas\", \"Ubuntu Mono\", \"Source Code Pro\", monospace;\n",
       "    font-size: 13px;\n",
       "    color: #555;\n",
       "    margin-left: 4px;\n",
       "    line-height: 19px;\n",
       "  }\n",
       "</style>\n",
       "<div class=\"ansiout\"></div>"
      ]
     },
     "metadata": {
      "application/vnd.databricks.v1+output": {
       "addedWidgets": {},
       "arguments": {},
       "data": "<div class=\"ansiout\"></div>",
       "datasetInfos": [],
       "metadata": {},
       "removedWidgets": [],
       "type": "html"
      }
     },
     "output_type": "display_data"
    }
   ],
   "source": [
    "# Create session to run queries\n",
    "cfg = (\n",
    "    pyspark.SparkConf()\n",
    "    # Setting the master to run locally and with the maximum amount of cpu coresfor multiprocessing.\n",
    "    .setMaster(f\"local[{multiprocessing.cpu_count()}]\")\n",
    "    # Setting application name\n",
    "    .setAppName(\"TestApp\")\n",
    "    # Setting config value via string\n",
    "    .set(\"spark.eventLog.enabled\", False)\n",
    "    # Setting environment variables for executors to use\n",
    "    .setExecutorEnv(pairs=[(\"VAR3\", \"value3\"), (\"VAR4\", \"value4\")])\n",
    "    # Setting memory if this setting was not set previously\n",
    "    .setIfMissing(\"spark.executor.memory\", \"1g\")\n",
    ")\n",
    "\n",
    "session = pyspark.sql.SparkSession.builder.config(conf=cfg).getOrCreate()"
   ]
  },
  {
   "cell_type": "code",
   "execution_count": 0,
   "metadata": {
    "application/vnd.databricks.v1+cell": {
     "cellMetadata": {
      "byteLimit": 2048000,
      "rowLimit": 10000
     },
     "collapsed": true,
     "inputWidgets": {},
     "nuid": "95aa259e-f749-4d64-8156-3a5688f932a9",
     "showTitle": false,
     "title": ""
    }
   },
   "outputs": [
    {
     "output_type": "display_data",
     "data": {
      "text/html": [
       "<style scoped>\n",
       "  .ansiout {\n",
       "    display: block;\n",
       "    unicode-bidi: embed;\n",
       "    white-space: pre-wrap;\n",
       "    word-wrap: break-word;\n",
       "    word-break: break-all;\n",
       "    font-family: \"Menlo\", \"Monaco\", \"Consolas\", \"Ubuntu Mono\", \"Source Code Pro\", monospace;\n",
       "    font-size: 13px;\n",
       "    color: #555;\n",
       "    margin-left: 4px;\n",
       "    line-height: 19px;\n",
       "  }\n",
       "</style>\n",
       "<div class=\"ansiout\"></div>"
      ]
     },
     "metadata": {
      "application/vnd.databricks.v1+output": {
       "addedWidgets": {},
       "arguments": {},
       "data": "<div class=\"ansiout\"></div>",
       "datasetInfos": [],
       "metadata": {},
       "removedWidgets": [],
       "type": "html"
      }
     },
     "output_type": "display_data"
    }
   ],
   "source": [
    "# Load cleaned data, then create TempViews for the queries\n",
    "df_pin, df_geo, df_user = load_cleaned_data()\n",
    "\n",
    "# Create TempViews for queries\n",
    "df_pin.createOrReplaceTempView(\"pin_table\")\n",
    "df_geo.createOrReplaceTempView(\"geo_table\")\n",
    "df_user.createOrReplaceTempView(\"user_table\")"
   ]
  },
  {
   "cell_type": "code",
   "execution_count": 0,
   "metadata": {
    "application/vnd.databricks.v1+cell": {
     "cellMetadata": {
      "byteLimit": 2048000,
      "rowLimit": 10000
     },
     "collapsed": true,
     "inputWidgets": {},
     "nuid": "869e3b7f-7d15-4202-840b-022bd92e228c",
     "showTitle": false,
     "title": ""
    }
   },
   "outputs": [
    {
     "output_type": "display_data",
     "data": {
      "text/html": [
       "<style scoped>\n",
       "  .ansiout {\n",
       "    display: block;\n",
       "    unicode-bidi: embed;\n",
       "    white-space: pre-wrap;\n",
       "    word-wrap: break-word;\n",
       "    word-break: break-all;\n",
       "    font-family: \"Menlo\", \"Monaco\", \"Consolas\", \"Ubuntu Mono\", \"Source Code Pro\", monospace;\n",
       "    font-size: 13px;\n",
       "    color: #555;\n",
       "    margin-left: 4px;\n",
       "    line-height: 19px;\n",
       "  }\n",
       "</style>\n",
       "<div class=\"ansiout\">+--------------------+--------------+--------------+\n",
       "             country|      category|category_count|\n",
       "+--------------------+--------------+--------------+\n",
       "         Afghanistan|     education|             1|\n",
       "         Afghanistan|           art|             1|\n",
       "             Albania|    home-decor|             1|\n",
       "             Albania|     christmas|             1|\n",
       "             Albania|diy-and-crafts|             1|\n",
       "             Albania|           art|             1|\n",
       "             Albania|  mens-fashion|             1|\n",
       "             Algeria|        beauty|             1|\n",
       "             Algeria|        travel|             1|\n",
       "             Algeria|        quotes|             1|\n",
       "      American Samoa|        travel|             1|\n",
       "      American Samoa|        beauty|             1|\n",
       "      American Samoa|        quotes|             1|\n",
       "             Andorra|        beauty|             1|\n",
       "             Andorra|       tattoos|             1|\n",
       "             Andorra|           art|             1|\n",
       "              Angola|diy-and-crafts|             1|\n",
       "            Anguilla|        beauty|             1|\n",
       "            Anguilla|    home-decor|             1|\n",
       "Antarctica (the t...|     christmas|             1|\n",
       "+--------------------+--------------+--------------+\n",
       "only showing top 20 rows\n",
       "\n",
       "</div>"
      ]
     },
     "metadata": {
      "application/vnd.databricks.v1+output": {
       "addedWidgets": {},
       "arguments": {},
       "data": "<div class=\"ansiout\">+--------------------+--------------+--------------+\n|             country|      category|category_count|\n+--------------------+--------------+--------------+\n|         Afghanistan|     education|             1|\n|         Afghanistan|           art|             1|\n|             Albania|    home-decor|             1|\n|             Albania|     christmas|             1|\n|             Albania|diy-and-crafts|             1|\n|             Albania|           art|             1|\n|             Albania|  mens-fashion|             1|\n|             Algeria|        beauty|             1|\n|             Algeria|        travel|             1|\n|             Algeria|        quotes|             1|\n|      American Samoa|        travel|             1|\n|      American Samoa|        beauty|             1|\n|      American Samoa|        quotes|             1|\n|             Andorra|        beauty|             1|\n|             Andorra|       tattoos|             1|\n|             Andorra|           art|             1|\n|              Angola|diy-and-crafts|             1|\n|            Anguilla|        beauty|             1|\n|            Anguilla|    home-decor|             1|\n|Antarctica (the t...|     christmas|             1|\n+--------------------+--------------+--------------+\nonly showing top 20 rows\n\n</div>",
       "datasetInfos": [],
       "metadata": {},
       "removedWidgets": [],
       "type": "html"
      }
     },
     "output_type": "display_data"
    }
   ],
   "source": [
    "# The most popular category in each country (ties allowed. to disallow ties, use ROW_NUMBER instead of RANK)\n",
    "query_popular_category_in_each_country = \"\"\"\n",
    "    WITH category_count_per_country AS\n",
    "    (\n",
    "        SELECT\n",
    "            country,\n",
    "            category,\n",
    "            COUNT(*) AS category_count,\n",
    "            RANK() OVER (\n",
    "                PARTITION BY country ORDER BY COUNT(pin_table.ind) DESC\n",
    "            ) AS rank\n",
    "        FROM\n",
    "            pin_table\n",
    "        JOIN\n",
    "            geo_table ON pin_table.ind = geo_table.ind\n",
    "        GROUP BY\n",
    "            country, category\n",
    "    )\n",
    "    SELECT\n",
    "        country,\n",
    "        category,\n",
    "        category_count\n",
    "    FROM\n",
    "        category_count_per_country\n",
    "    WHERE\n",
    "        rank = 1\n",
    "\"\"\"\n",
    "\n",
    "popular_category_in_each_country_df = session.sql(query_popular_category_in_each_country)\n",
    "popular_category_in_each_country_df.show()"
   ]
  },
  {
   "cell_type": "code",
   "execution_count": 0,
   "metadata": {
    "application/vnd.databricks.v1+cell": {
     "cellMetadata": {
      "byteLimit": 2048000,
      "rowLimit": 10000
     },
     "collapsed": true,
     "inputWidgets": {},
     "nuid": "ede97d2c-daa3-478e-bdd9-f566e59a22d9",
     "showTitle": false,
     "title": ""
    }
   },
   "outputs": [
    {
     "output_type": "display_data",
     "data": {
      "text/html": [
       "<style scoped>\n",
       "  .ansiout {\n",
       "    display: block;\n",
       "    unicode-bidi: embed;\n",
       "    white-space: pre-wrap;\n",
       "    word-wrap: break-word;\n",
       "    word-break: break-all;\n",
       "    font-family: \"Menlo\", \"Monaco\", \"Consolas\", \"Ubuntu Mono\", \"Source Code Pro\", monospace;\n",
       "    font-size: 13px;\n",
       "    color: #555;\n",
       "    margin-left: 4px;\n",
       "    line-height: 19px;\n",
       "  }\n",
       "</style>\n",
       "<div class=\"ansiout\">+---------+--------------+--------------+\n",
       "post_year|      category|category_count|\n",
       "+---------+--------------+--------------+\n",
       "     2017|        beauty|             1|\n",
       "     2017|           art|             1|\n",
       "     2017|        travel|             1|\n",
       "     2018|           art|             4|\n",
       "     2018|        beauty|             4|\n",
       "     2019|     education|             4|\n",
       "     2020|           art|             3|\n",
       "     2021|       tattoos|             3|\n",
       "     2021|diy-and-crafts|             3|\n",
       "     2022|        beauty|             2|\n",
       "     2022|       tattoos|             2|\n",
       "     2022|     christmas|             2|\n",
       "+---------+--------------+--------------+\n",
       "\n",
       "</div>"
      ]
     },
     "metadata": {
      "application/vnd.databricks.v1+output": {
       "addedWidgets": {},
       "arguments": {},
       "data": "<div class=\"ansiout\">+---------+--------------+--------------+\n|post_year|      category|category_count|\n+---------+--------------+--------------+\n|     2017|        beauty|             1|\n|     2017|           art|             1|\n|     2017|        travel|             1|\n|     2018|           art|             4|\n|     2018|        beauty|             4|\n|     2019|     education|             4|\n|     2020|           art|             3|\n|     2021|       tattoos|             3|\n|     2021|diy-and-crafts|             3|\n|     2022|        beauty|             2|\n|     2022|       tattoos|             2|\n|     2022|     christmas|             2|\n+---------+--------------+--------------+\n\n</div>",
       "datasetInfos": [],
       "metadata": {},
       "removedWidgets": [],
       "type": "html"
      }
     },
     "output_type": "display_data"
    }
   ],
   "source": [
    "# Most popular category each year (ties allowed. to disallow ties, use ROW_NUMBER instead of RANK)\n",
    "query_popular_category_each_year = \"\"\"\n",
    "    WITH category_count_per_year AS (\n",
    "    SELECT\n",
    "        YEAR(timestamp) AS post_year,\n",
    "        category,\n",
    "        COUNT(*) AS category_count,\n",
    "        RANK() OVER (\n",
    "            PARTITION BY\n",
    "                YEAR(timestamp)\n",
    "            ORDER BY\n",
    "                COUNT(pin_table.ind) DESC\n",
    "        ) AS rank\n",
    "    FROM\n",
    "        pin_table\n",
    "    JOIN\n",
    "        geo_table ON pin_table.ind = geo_table.ind\n",
    "    GROUP BY\n",
    "        YEAR(timestamp), category\n",
    "    )\n",
    "    SELECT\n",
    "        post_year,\n",
    "        category,\n",
    "        category_count\n",
    "    FROM\n",
    "        category_count_per_year\n",
    "    WHERE\n",
    "        rank = 1   \n",
    "\"\"\"\n",
    "\n",
    "popular_category_each_year_df = session.sql(query_popular_category_each_year)\n",
    "popular_category_each_year_df.show()"
   ]
  },
  {
   "cell_type": "code",
   "execution_count": 0,
   "metadata": {
    "application/vnd.databricks.v1+cell": {
     "cellMetadata": {
      "byteLimit": 2048000,
      "rowLimit": 10000
     },
     "collapsed": true,
     "inputWidgets": {},
     "nuid": "7d9b1a62-6f05-485b-81eb-040bcf9eea7a",
     "showTitle": false,
     "title": ""
    }
   },
   "outputs": [
    {
     "output_type": "display_data",
     "data": {
      "text/html": [
       "<style scoped>\n",
       "  .ansiout {\n",
       "    display: block;\n",
       "    unicode-bidi: embed;\n",
       "    white-space: pre-wrap;\n",
       "    word-wrap: break-word;\n",
       "    word-break: break-all;\n",
       "    font-family: \"Menlo\", \"Monaco\", \"Consolas\", \"Ubuntu Mono\", \"Source Code Pro\", monospace;\n",
       "    font-size: 13px;\n",
       "    color: #555;\n",
       "    margin-left: 4px;\n",
       "    line-height: 19px;\n",
       "  }\n",
       "</style>\n",
       "<div class=\"ansiout\">+--------------------+--------------------+--------------+\n",
       "             country|         poster_name|follower_count|\n",
       "+--------------------+--------------------+--------------+\n",
       "         Afghanistan|             Walmart|       2000000|\n",
       "             Albania|          MojisStyle|        117000|\n",
       "             Algeria|        ELLE Germany|        326000|\n",
       "      American Samoa|            BuzzFeed|       5000000|\n",
       "             Andorra|Teachers Pay Teac...|       1000000|\n",
       "              Angola|     CraftGossip.com|        502000|\n",
       "            Anguilla|Kristen | Lifesty...|         92000|\n",
       "Antarctica (the t...|            HikenDip|        500000|\n",
       " Antigua and Barbuda|Sumcoco | Decor I...|        306000|\n",
       "           Argentina|         Next Luxury|        800000|\n",
       "             Armenia|Michelle {CraftyM...|        892000|\n",
       "               Aruba|     TheTrendSpotter|        211000|\n",
       "           Australia|   Cultura Colectiva|       1000000|\n",
       "             Austria|The World Pursuit...|         89000|\n",
       "          Azerbaijan|     Style Me Pretty|       6000000|\n",
       "             Bahrain|R.J. Weiss at The...|         46000|\n",
       "          Bangladesh|Architectural Digest|       3000000|\n",
       "            Barbados|The Creativity Ex...|        410000|\n",
       "             Bermuda|Life on Summerhil...|         46000|\n",
       "              Bhutan|Kids Crafts &amp; Fre...|          3000|\n",
       "+--------------------+--------------------+--------------+\n",
       "only showing top 20 rows\n",
       "\n",
       "+----------+--------------+\n",
       "   country|follower_count|\n",
       "+----------+--------------+\n",
       "Azerbaijan|       6000000|\n",
       "+----------+--------------+\n",
       "\n",
       "</div>"
      ]
     },
     "metadata": {
      "application/vnd.databricks.v1+output": {
       "addedWidgets": {},
       "arguments": {},
       "data": "<div class=\"ansiout\">+--------------------+--------------------+--------------+\n|             country|         poster_name|follower_count|\n+--------------------+--------------------+--------------+\n|         Afghanistan|             Walmart|       2000000|\n|             Albania|          MojisStyle|        117000|\n|             Algeria|        ELLE Germany|        326000|\n|      American Samoa|            BuzzFeed|       5000000|\n|             Andorra|Teachers Pay Teac...|       1000000|\n|              Angola|     CraftGossip.com|        502000|\n|            Anguilla|Kristen | Lifesty...|         92000|\n|Antarctica (the t...|            HikenDip|        500000|\n| Antigua and Barbuda|Sumcoco | Decor I...|        306000|\n|           Argentina|         Next Luxury|        800000|\n|             Armenia|Michelle {CraftyM...|        892000|\n|               Aruba|     TheTrendSpotter|        211000|\n|           Australia|   Cultura Colectiva|       1000000|\n|             Austria|The World Pursuit...|         89000|\n|          Azerbaijan|     Style Me Pretty|       6000000|\n|             Bahrain|R.J. Weiss at The...|         46000|\n|          Bangladesh|Architectural Digest|       3000000|\n|            Barbados|The Creativity Ex...|        410000|\n|             Bermuda|Life on Summerhil...|         46000|\n|              Bhutan|Kids Crafts &amp; Fre...|          3000|\n+--------------------+--------------------+--------------+\nonly showing top 20 rows\n\n+----------+--------------+\n|   country|follower_count|\n+----------+--------------+\n|Azerbaijan|       6000000|\n+----------+--------------+\n\n</div>",
       "datasetInfos": [],
       "metadata": {},
       "removedWidgets": [],
       "type": "html"
      }
     },
     "output_type": "display_data"
    }
   ],
   "source": [
    "# Most followers in each country (ties allowed. to disallow ties, use ROW_NUMBER instead of RANK)\n",
    "query_most_followers_per_country = \"\"\"\n",
    "    WITH ranked_poster_country_followers_table AS (\n",
    "    SELECT\n",
    "        country,\n",
    "        poster_name,\n",
    "        follower_count,\n",
    "        RANK() OVER (\n",
    "            PARTITION BY\n",
    "                country\n",
    "            ORDER BY\n",
    "                follower_count DESC\n",
    "        ) AS rank\n",
    "    FROM\n",
    "        pin_table\n",
    "    JOIN\n",
    "        geo_table ON pin_table.ind = geo_table.ind\n",
    "    GROUP BY\n",
    "        poster_name, country, follower_count\n",
    "    )\n",
    "    SELECT\n",
    "        country,\n",
    "        poster_name,\n",
    "        follower_count\n",
    "    FROM\n",
    "        ranked_poster_country_followers_table\n",
    "    WHERE\n",
    "        rank = 1\n",
    "\"\"\"\n",
    "\n",
    "most_followers_per_country_df = session.sql(query_most_followers_per_country)\n",
    "most_followers_per_country_df.show()\n",
    "\n",
    "# country with most followers\n",
    "most_followers_per_country_df.createOrReplaceTempView(\"most_followers_per_country_table\")\n",
    "query_country_with_most_followers = \"\"\"\n",
    "    SELECT\n",
    "        country,\n",
    "        follower_count\n",
    "    FROM\n",
    "        most_followers_per_country_table\n",
    "    ORDER BY\n",
    "        follower_count DESC\n",
    "    LIMIT 1\n",
    "\"\"\"\n",
    "\n",
    "country_with_most_followers_df = session.sql(query_country_with_most_followers)\n",
    "country_with_most_followers_df.show()"
   ]
  },
  {
   "cell_type": "code",
   "execution_count": 0,
   "metadata": {
    "application/vnd.databricks.v1+cell": {
     "cellMetadata": {
      "byteLimit": 2048000,
      "rowLimit": 10000
     },
     "collapsed": true,
     "inputWidgets": {},
     "nuid": "14c3b7cf-c4aa-4bd3-bb7e-22c066fb6393",
     "showTitle": false,
     "title": ""
    }
   },
   "outputs": [
    {
     "output_type": "display_data",
     "data": {
      "text/html": [
       "<style scoped>\n",
       "  .ansiout {\n",
       "    display: block;\n",
       "    unicode-bidi: embed;\n",
       "    white-space: pre-wrap;\n",
       "    word-wrap: break-word;\n",
       "    word-break: break-all;\n",
       "    font-family: \"Menlo\", \"Monaco\", \"Consolas\", \"Ubuntu Mono\", \"Source Code Pro\", monospace;\n",
       "    font-size: 13px;\n",
       "    color: #555;\n",
       "    margin-left: 4px;\n",
       "    line-height: 19px;\n",
       "  }\n",
       "</style>\n",
       "<div class=\"ansiout\">+---------+--------------+--------------+\n",
       "age_group|      category|category_count|\n",
       "+---------+--------------+--------------+\n",
       "      +50|     education|             2|\n",
       "      +50|        beauty|             2|\n",
       "    18-24|       tattoos|             6|\n",
       "    18-24|     christmas|             6|\n",
       "    18-24|           art|             6|\n",
       "    25-35|           art|             4|\n",
       "    25-35|        travel|             4|\n",
       "    26-50|diy-and-crafts|             3|\n",
       "+---------+--------------+--------------+\n",
       "\n",
       "</div>"
      ]
     },
     "metadata": {
      "application/vnd.databricks.v1+output": {
       "addedWidgets": {},
       "arguments": {},
       "data": "<div class=\"ansiout\">+---------+--------------+--------------+\n|age_group|      category|category_count|\n+---------+--------------+--------------+\n|      +50|     education|             2|\n|      +50|        beauty|             2|\n|    18-24|       tattoos|             6|\n|    18-24|     christmas|             6|\n|    18-24|           art|             6|\n|    25-35|           art|             4|\n|    25-35|        travel|             4|\n|    26-50|diy-and-crafts|             3|\n+---------+--------------+--------------+\n\n</div>",
       "datasetInfos": [],
       "metadata": {},
       "removedWidgets": [],
       "type": "html"
      }
     },
     "output_type": "display_data"
    }
   ],
   "source": [
    "# Most popular category for different age groups (ties allowed. to disallow ties, use ROW_NUMBER instead of RANK)\n",
    "query_popular_category_per_age_group = \"\"\"\n",
    "    WITH age_group_category_table AS\n",
    "    (\n",
    "        SELECT\n",
    "            category,\n",
    "            CASE\n",
    "                WHEN age BETWEEN 18 AND 24 THEN '18-24'\n",
    "                WHEN age BETWEEN 25 AND 35 THEN '25-35'\n",
    "                WHEN age BETWEEN 36 AND 50 THEN '36-50'\n",
    "                ELSE '+50'\n",
    "            END AS age_group\n",
    "        FROM\n",
    "            pin_table\n",
    "        JOIN\n",
    "            user_table ON pin_table.ind = user_table.ind\n",
    "    ),\n",
    "    ranked_age_group_category_table AS\n",
    "    (\n",
    "        SELECT\n",
    "            age_group,\n",
    "            category,\n",
    "            COUNT(*) AS category_count,\n",
    "            RANK() OVER (\n",
    "                PARTITION BY\n",
    "                    age_group\n",
    "                ORDER BY\n",
    "                    COUNT(*) DESC\n",
    "            ) AS rank\n",
    "        FROM\n",
    "            age_group_category_table\n",
    "        GROUP BY\n",
    "            age_group, category\n",
    "    )\n",
    "    SELECT\n",
    "        age_group,\n",
    "        category,\n",
    "        category_count\n",
    "    FROM\n",
    "        ranked_age_group_category_table\n",
    "    WHERE\n",
    "        rank = 1\n",
    "\"\"\"\n",
    "\n",
    "popular_category_per_age_group_df = session.sql(query_popular_category_per_age_group)\n",
    "popular_category_per_age_group_df.show()"
   ]
  },
  {
   "cell_type": "code",
   "execution_count": 0,
   "metadata": {
    "application/vnd.databricks.v1+cell": {
     "cellMetadata": {
      "byteLimit": 2048000,
      "rowLimit": 10000
     },
     "collapsed": true,
     "inputWidgets": {},
     "nuid": "6c81ae40-6441-43e5-80a7-d2492fd12cb8",
     "showTitle": false,
     "title": ""
    }
   },
   "outputs": [
    {
     "output_type": "display_data",
     "data": {
      "text/html": [
       "<style scoped>\n",
       "  .ansiout {\n",
       "    display: block;\n",
       "    unicode-bidi: embed;\n",
       "    white-space: pre-wrap;\n",
       "    word-wrap: break-word;\n",
       "    word-break: break-all;\n",
       "    font-family: \"Menlo\", \"Monaco\", \"Consolas\", \"Ubuntu Mono\", \"Source Code Pro\", monospace;\n",
       "    font-size: 13px;\n",
       "    color: #555;\n",
       "    margin-left: 4px;\n",
       "    line-height: 19px;\n",
       "  }\n",
       "</style>\n",
       "<div class=\"ansiout\">+---------+---------------------+\n",
       "age_group|median_follower_count|\n",
       "+---------+---------------------+\n",
       "    18-24|             110000.0|\n",
       "    25-35|              42000.0|\n",
       "    36-50|               8000.0|\n",
       "      +50|               7000.0|\n",
       "+---------+---------------------+\n",
       "\n",
       "</div>"
      ]
     },
     "metadata": {
      "application/vnd.databricks.v1+output": {
       "addedWidgets": {},
       "arguments": {},
       "data": "<div class=\"ansiout\">+---------+---------------------+\n|age_group|median_follower_count|\n+---------+---------------------+\n|    18-24|             110000.0|\n|    25-35|              42000.0|\n|    36-50|               8000.0|\n|      +50|               7000.0|\n+---------+---------------------+\n\n</div>",
       "datasetInfos": [],
       "metadata": {},
       "removedWidgets": [],
       "type": "html"
      }
     },
     "output_type": "display_data"
    }
   ],
   "source": [
    "# Median follower count for different age groups\n",
    "query_median_follower_count_per_age_group = \"\"\"\n",
    "    WITH age_group_follower_count_table AS\n",
    "    (\n",
    "        SELECT\n",
    "            follower_count,\n",
    "            CASE\n",
    "                WHEN age BETWEEN 18 AND 24 THEN '18-24'\n",
    "                WHEN age BETWEEN 25 AND 35 THEN '25-35'\n",
    "                WHEN age BETWEEN 36 AND 50 THEN '36-50'\n",
    "                ELSE '+50'\n",
    "            END AS age_group\n",
    "        FROM\n",
    "            pin_table\n",
    "        JOIN\n",
    "            user_table ON pin_table.ind = user_table.ind\n",
    "    )\n",
    "    SELECT\n",
    "        age_group,\n",
    "        PERCENTILE_CONT(0.5) WITHIN GROUP(ORDER BY follower_count) AS median_follower_count\n",
    "    FROM\n",
    "        age_group_follower_count_table\n",
    "    GROUP BY\n",
    "        age_group\n",
    "    ORDER BY\n",
    "        CASE\n",
    "            WHEN age_group = '18-24' THEN 10\n",
    "            WHEN age_group = '25-35' THEN 20\n",
    "            WHEN age_group = '36-50' THEN 30\n",
    "            ELSE 100\n",
    "        END\n",
    "\"\"\"\n",
    "\n",
    "median_follower_count_per_age_group_df = session.sql(query_median_follower_count_per_age_group)\n",
    "median_follower_count_per_age_group_df.show()"
   ]
  },
  {
   "cell_type": "code",
   "execution_count": 0,
   "metadata": {
    "application/vnd.databricks.v1+cell": {
     "cellMetadata": {
      "byteLimit": 2048000,
      "rowLimit": 10000
     },
     "collapsed": true,
     "inputWidgets": {},
     "nuid": "2472e5dd-7a0b-473f-ac63-e6ba110ac5b7",
     "showTitle": false,
     "title": ""
    }
   },
   "outputs": [
    {
     "output_type": "display_data",
     "data": {
      "text/html": [
       "<style scoped>\n",
       "  .ansiout {\n",
       "    display: block;\n",
       "    unicode-bidi: embed;\n",
       "    white-space: pre-wrap;\n",
       "    word-wrap: break-word;\n",
       "    word-break: break-all;\n",
       "    font-family: \"Menlo\", \"Monaco\", \"Consolas\", \"Ubuntu Mono\", \"Source Code Pro\", monospace;\n",
       "    font-size: 13px;\n",
       "    color: #555;\n",
       "    margin-left: 4px;\n",
       "    line-height: 19px;\n",
       "  }\n",
       "</style>\n",
       "<div class=\"ansiout\">+---------+-------------------+\n",
       "post_year|number_users_joined|\n",
       "+---------+-------------------+\n",
       "     2015|                 38|\n",
       "     2016|                 41|\n",
       "     2017|                 12|\n",
       "+---------+-------------------+\n",
       "\n",
       "</div>"
      ]
     },
     "metadata": {
      "application/vnd.databricks.v1+output": {
       "addedWidgets": {},
       "arguments": {},
       "data": "<div class=\"ansiout\">+---------+-------------------+\n|post_year|number_users_joined|\n+---------+-------------------+\n|     2015|                 38|\n|     2016|                 41|\n|     2017|                 12|\n+---------+-------------------+\n\n</div>",
       "datasetInfos": [],
       "metadata": {},
       "removedWidgets": [],
       "type": "html"
      }
     },
     "output_type": "display_data"
    }
   ],
   "source": [
    "# Number of users joined each year between 2015-2020\n",
    "query_users_joined_per_year = \"\"\"\n",
    "    SELECT\n",
    "        YEAR(date_joined) AS post_year,\n",
    "        COUNT(*) AS number_users_joined\n",
    "    FROM\n",
    "        user_table\n",
    "    GROUP BY\n",
    "        YEAR(date_joined)\n",
    "    HAVING\n",
    "        YEAR(date_joined) BETWEEN 2015 AND 2020\n",
    "    ORDER BY\n",
    "        post_year\n",
    "\"\"\"\n",
    "\n",
    "query_users_joined_per_year_df = session.sql(query_users_joined_per_year)\n",
    "query_users_joined_per_year_df.show()"
   ]
  },
  {
   "cell_type": "code",
   "execution_count": 0,
   "metadata": {
    "application/vnd.databricks.v1+cell": {
     "cellMetadata": {
      "byteLimit": 2048000,
      "rowLimit": 10000
     },
     "collapsed": true,
     "inputWidgets": {},
     "nuid": "c29fb3bd-1125-4d4a-970b-27e69ca26597",
     "showTitle": false,
     "title": ""
    }
   },
   "outputs": [
    {
     "output_type": "display_data",
     "data": {
      "text/html": [
       "<style scoped>\n",
       "  .ansiout {\n",
       "    display: block;\n",
       "    unicode-bidi: embed;\n",
       "    white-space: pre-wrap;\n",
       "    word-wrap: break-word;\n",
       "    word-break: break-all;\n",
       "    font-family: \"Menlo\", \"Monaco\", \"Consolas\", \"Ubuntu Mono\", \"Source Code Pro\", monospace;\n",
       "    font-size: 13px;\n",
       "    color: #555;\n",
       "    margin-left: 4px;\n",
       "    line-height: 19px;\n",
       "  }\n",
       "</style>\n",
       "<div class=\"ansiout\">+-----------+---------------------+\n",
       "year_joined|median_follower_count|\n",
       "+-----------+---------------------+\n",
       "       2015|              92000.0|\n",
       "       2016|              27000.0|\n",
       "       2017|               5000.0|\n",
       "+-----------+---------------------+\n",
       "\n",
       "</div>"
      ]
     },
     "metadata": {
      "application/vnd.databricks.v1+output": {
       "addedWidgets": {},
       "arguments": {},
       "data": "<div class=\"ansiout\">+-----------+---------------------+\n|year_joined|median_follower_count|\n+-----------+---------------------+\n|       2015|              92000.0|\n|       2016|              27000.0|\n|       2017|               5000.0|\n+-----------+---------------------+\n\n</div>",
       "datasetInfos": [],
       "metadata": {},
       "removedWidgets": [],
       "type": "html"
      }
     },
     "output_type": "display_data"
    }
   ],
   "source": [
    "# Median follower count of users based on their joining year.\n",
    "query_median_follower_count_per_joining_year = \"\"\"\n",
    "    SELECT\n",
    "        YEAR(date_joined) AS year_joined,\n",
    "        PERCENTILE_CONT(0.5) WITHIN GROUP(ORDER BY follower_count) AS median_follower_count\n",
    "    FROM\n",
    "        user_table\n",
    "    JOIN\n",
    "        pin_data ON user_table.ind = pin_data.ind\n",
    "    GROUP BY\n",
    "        YEAR(date_joined)\n",
    "    HAVING\n",
    "        YEAR(date_joined) BETWEEN 2015 and 2020\n",
    "    ORDER BY\n",
    "        year_joined\n",
    "\"\"\"\n",
    "\n",
    "median_follower_count_per_joining_year_df = session.sql(query_median_follower_count_per_joining_year)\n",
    "median_follower_count_per_joining_year_df.show()"
   ]
  },
  {
   "cell_type": "code",
   "execution_count": 0,
   "metadata": {
    "application/vnd.databricks.v1+cell": {
     "cellMetadata": {
      "byteLimit": 2048000,
      "rowLimit": 10000
     },
     "collapsed": true,
     "inputWidgets": {},
     "nuid": "2df41d7f-fdc0-42ee-9f03-9b5d8cb01991",
     "showTitle": false,
     "title": ""
    }
   },
   "outputs": [
    {
     "output_type": "display_data",
     "data": {
      "text/html": [
       "<style scoped>\n",
       "  .ansiout {\n",
       "    display: block;\n",
       "    unicode-bidi: embed;\n",
       "    white-space: pre-wrap;\n",
       "    word-wrap: break-word;\n",
       "    word-break: break-all;\n",
       "    font-family: \"Menlo\", \"Monaco\", \"Consolas\", \"Ubuntu Mono\", \"Source Code Pro\", monospace;\n",
       "    font-size: 13px;\n",
       "    color: #555;\n",
       "    margin-left: 4px;\n",
       "    line-height: 19px;\n",
       "  }\n",
       "</style>\n",
       "<div class=\"ansiout\">+---------+---------+---------------------+\n",
       "age_group|post_year|median_follower_count|\n",
       "+---------+---------+---------------------+\n",
       "    18-24|     2017|            1000000.0|\n",
       "    18-24|     2018|              98500.0|\n",
       "    18-24|     2019|              46000.0|\n",
       "    18-24|     2020|             211000.0|\n",
       "    18-24|     2021|             306000.0|\n",
       "    18-24|     2022|             217500.0|\n",
       "    25-35|     2017|              42000.0|\n",
       "    25-35|     2018|              24500.0|\n",
       "    25-35|     2019|              83000.0|\n",
       "    25-35|     2020|             118000.0|\n",
       "    25-35|     2021|              27000.0|\n",
       "    25-35|     2022|                437.0|\n",
       "    36-50|     2018|                 56.0|\n",
       "    36-50|     2019|              25000.0|\n",
       "    36-50|     2020|               9000.0|\n",
       "    36-50|     2021|               6000.0|\n",
       "    36-50|     2022|              85000.0|\n",
       "      +50|     2017|             326000.0|\n",
       "      +50|     2018|              19000.0|\n",
       "      +50|     2019|               2555.5|\n",
       "+---------+---------+---------------------+\n",
       "only showing top 20 rows\n",
       "\n",
       "</div>"
      ]
     },
     "metadata": {
      "application/vnd.databricks.v1+output": {
       "addedWidgets": {},
       "arguments": {},
       "data": "<div class=\"ansiout\">+---------+---------+---------------------+\n|age_group|post_year|median_follower_count|\n+---------+---------+---------------------+\n|    18-24|     2017|            1000000.0|\n|    18-24|     2018|              98500.0|\n|    18-24|     2019|              46000.0|\n|    18-24|     2020|             211000.0|\n|    18-24|     2021|             306000.0|\n|    18-24|     2022|             217500.0|\n|    25-35|     2017|              42000.0|\n|    25-35|     2018|              24500.0|\n|    25-35|     2019|              83000.0|\n|    25-35|     2020|             118000.0|\n|    25-35|     2021|              27000.0|\n|    25-35|     2022|                437.0|\n|    36-50|     2018|                 56.0|\n|    36-50|     2019|              25000.0|\n|    36-50|     2020|               9000.0|\n|    36-50|     2021|               6000.0|\n|    36-50|     2022|              85000.0|\n|      +50|     2017|             326000.0|\n|      +50|     2018|              19000.0|\n|      +50|     2019|               2555.5|\n+---------+---------+---------------------+\nonly showing top 20 rows\n\n</div>",
       "datasetInfos": [],
       "metadata": {},
       "removedWidgets": [],
       "type": "html"
      }
     },
     "output_type": "display_data"
    }
   ],
   "source": [
    "# Median follower count of users based on joining year and age group\n",
    "query_median_follower_count_per_age_group_and_joining_year = \"\"\"\n",
    "    WITH follower_count_age_group_post_year_table AS\n",
    "    (\n",
    "        SELECT\n",
    "            CASE\n",
    "                WHEN age BETWEEN 18 AND 24 THEN '18-24'\n",
    "                WHEN age BETWEEN 25 AND 35 THEN '25-35'\n",
    "                WHEN age BETWEEN 36 AND 50 THEN '36-50'\n",
    "                ELSE '+50' \n",
    "            END AS age_group,\n",
    "            YEAR(timestamp) AS post_year,\n",
    "            follower_count\n",
    "        FROM\n",
    "            pin_table\n",
    "        JOIN\n",
    "            geo_table ON pin_table.ind = geo_table.ind\n",
    "        JOIN\n",
    "            user_table ON pin_table.ind = user_table.ind\n",
    "    )\n",
    "    SELECT\n",
    "        age_group,\n",
    "        post_year,\n",
    "        PERCENTILE_CONT(0.5) WITHIN GROUP(ORDER BY follower_count) AS median_follower_count\n",
    "    FROM\n",
    "        follower_count_age_group_post_year_table\n",
    "    GROUP BY\n",
    "        age_group, post_year\n",
    "    ORDER BY\n",
    "        CASE\n",
    "            WHEN age_group = '18-24' THEN 10\n",
    "            WHEN age_group = '25-35' THEN 20\n",
    "            WHEN age_group = '36-50' THEN 30\n",
    "            ELSE 100\n",
    "        END,\n",
    "        post_year\n",
    "\"\"\"\n",
    "\n",
    "median_follower_count_per_age_group_and_joining_year_df = session.sql(query_median_follower_count_per_age_group_and_joining_year)\n",
    "median_follower_count_per_age_group_and_joining_year_df.show()"
   ]
  },
  {
   "cell_type": "markdown",
   "metadata": {
    "application/vnd.databricks.v1+cell": {
     "cellMetadata": {},
     "inputWidgets": {},
     "nuid": "a77203a9-2103-48be-b348-d3d074eb7021",
     "showTitle": false,
     "title": ""
    }
   },
   "source": [
    "# DataFrame schema for reference"
   ]
  },
  {
   "cell_type": "code",
   "execution_count": 0,
   "metadata": {
    "application/vnd.databricks.v1+cell": {
     "cellMetadata": {
      "byteLimit": 2048000,
      "rowLimit": 10000
     },
     "inputWidgets": {},
     "nuid": "02a73ab4-ec7d-451b-94fe-8b614cc052e4",
     "showTitle": false,
     "title": ""
    }
   },
   "outputs": [
    {
     "output_type": "display_data",
     "data": {
      "text/html": [
       "<style scoped>\n",
       "  .ansiout {\n",
       "    display: block;\n",
       "    unicode-bidi: embed;\n",
       "    white-space: pre-wrap;\n",
       "    word-wrap: break-word;\n",
       "    word-break: break-all;\n",
       "    font-family: \"Menlo\", \"Monaco\", \"Consolas\", \"Ubuntu Mono\", \"Source Code Pro\", monospace;\n",
       "    font-size: 13px;\n",
       "    color: #555;\n",
       "    margin-left: 4px;\n",
       "    line-height: 19px;\n",
       "  }\n",
       "</style>\n",
       "<div class=\"ansiout\">root\n",
       "-- ind: integer (nullable = true)\n",
       "-- unique_id: string (nullable = true)\n",
       "-- title: string (nullable = true)\n",
       "-- description: string (nullable = true)\n",
       "-- follower_count: integer (nullable = true)\n",
       "-- poster_name: string (nullable = true)\n",
       "-- tag_list: string (nullable = true)\n",
       "-- is_image_or_video: string (nullable = true)\n",
       "-- image_src: string (nullable = true)\n",
       "-- save_location: string (nullable = true)\n",
       "-- category: string (nullable = true)\n",
       "\n",
       "</div>"
      ]
     },
     "metadata": {
      "application/vnd.databricks.v1+output": {
       "addedWidgets": {},
       "arguments": {},
       "data": "<div class=\"ansiout\">root\n |-- ind: integer (nullable = true)\n |-- unique_id: string (nullable = true)\n |-- title: string (nullable = true)\n |-- description: string (nullable = true)\n |-- follower_count: integer (nullable = true)\n |-- poster_name: string (nullable = true)\n |-- tag_list: string (nullable = true)\n |-- is_image_or_video: string (nullable = true)\n |-- image_src: string (nullable = true)\n |-- save_location: string (nullable = true)\n |-- category: string (nullable = true)\n\n</div>",
       "datasetInfos": [],
       "metadata": {},
       "removedWidgets": [],
       "type": "html"
      }
     },
     "output_type": "display_data"
    }
   ],
   "source": [
    "# Pin data\n",
    "df_pin.printSchema()"
   ]
  },
  {
   "cell_type": "code",
   "execution_count": 0,
   "metadata": {
    "application/vnd.databricks.v1+cell": {
     "cellMetadata": {
      "byteLimit": 2048000,
      "rowLimit": 10000
     },
     "inputWidgets": {},
     "nuid": "b8a7019a-ce56-4832-a645-22ab3bc83aa6",
     "showTitle": false,
     "title": ""
    }
   },
   "outputs": [
    {
     "output_type": "display_data",
     "data": {
      "text/html": [
       "<style scoped>\n",
       "  .ansiout {\n",
       "    display: block;\n",
       "    unicode-bidi: embed;\n",
       "    white-space: pre-wrap;\n",
       "    word-wrap: break-word;\n",
       "    word-break: break-all;\n",
       "    font-family: \"Menlo\", \"Monaco\", \"Consolas\", \"Ubuntu Mono\", \"Source Code Pro\", monospace;\n",
       "    font-size: 13px;\n",
       "    color: #555;\n",
       "    margin-left: 4px;\n",
       "    line-height: 19px;\n",
       "  }\n",
       "</style>\n",
       "<div class=\"ansiout\">root\n",
       "-- ind: integer (nullable = true)\n",
       "-- country: string (nullable = true)\n",
       "-- coordinates: array (nullable = false)\n",
       "    |-- element: float (containsNull = true)\n",
       "-- timestamp: timestamp (nullable = true)\n",
       "\n",
       "</div>"
      ]
     },
     "metadata": {
      "application/vnd.databricks.v1+output": {
       "addedWidgets": {},
       "arguments": {},
       "data": "<div class=\"ansiout\">root\n |-- ind: integer (nullable = true)\n |-- country: string (nullable = true)\n |-- coordinates: array (nullable = false)\n |    |-- element: float (containsNull = true)\n |-- timestamp: timestamp (nullable = true)\n\n</div>",
       "datasetInfos": [],
       "metadata": {},
       "removedWidgets": [],
       "type": "html"
      }
     },
     "output_type": "display_data"
    }
   ],
   "source": [
    "# Geolocation data\n",
    "df_geo.printSchema()"
   ]
  },
  {
   "cell_type": "code",
   "execution_count": 0,
   "metadata": {
    "application/vnd.databricks.v1+cell": {
     "cellMetadata": {
      "byteLimit": 2048000,
      "rowLimit": 10000
     },
     "inputWidgets": {},
     "nuid": "836c1ea4-0c64-4e57-b609-6ec03ebb3a58",
     "showTitle": false,
     "title": ""
    }
   },
   "outputs": [
    {
     "output_type": "display_data",
     "data": {
      "text/html": [
       "<style scoped>\n",
       "  .ansiout {\n",
       "    display: block;\n",
       "    unicode-bidi: embed;\n",
       "    white-space: pre-wrap;\n",
       "    word-wrap: break-word;\n",
       "    word-break: break-all;\n",
       "    font-family: \"Menlo\", \"Monaco\", \"Consolas\", \"Ubuntu Mono\", \"Source Code Pro\", monospace;\n",
       "    font-size: 13px;\n",
       "    color: #555;\n",
       "    margin-left: 4px;\n",
       "    line-height: 19px;\n",
       "  }\n",
       "</style>\n",
       "<div class=\"ansiout\">root\n",
       "-- ind: integer (nullable = true)\n",
       "-- user_name: string (nullable = false)\n",
       "-- age: integer (nullable = true)\n",
       "-- date_joined: timestamp (nullable = true)\n",
       "\n",
       "</div>"
      ]
     },
     "metadata": {
      "application/vnd.databricks.v1+output": {
       "addedWidgets": {},
       "arguments": {},
       "data": "<div class=\"ansiout\">root\n |-- ind: integer (nullable = true)\n |-- user_name: string (nullable = false)\n |-- age: integer (nullable = true)\n |-- date_joined: timestamp (nullable = true)\n\n</div>",
       "datasetInfos": [],
       "metadata": {},
       "removedWidgets": [],
       "type": "html"
      }
     },
     "output_type": "display_data"
    }
   ],
   "source": [
    "# User data\n",
    "df_user.printSchema()"
   ]
  }
 ],
 "metadata": {
  "application/vnd.databricks.v1+notebook": {
   "dashboards": [],
   "language": "python",
   "notebookMetadata": {
    "mostRecentlyExecutedCommandWithImplicitDF": {
     "commandId": 3002839003723563,
     "dataframes": [
      "_sqldf"
     ]
    },
    "pythonIndentUnit": 4
   },
   "notebookName": "data_cleaning and queries",
   "widgets": {}
  }
 },
 "nbformat": 4,
 "nbformat_minor": 0
}
