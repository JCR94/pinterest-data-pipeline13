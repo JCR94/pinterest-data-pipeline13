{
 "cells": [
  {
   "cell_type": "code",
   "execution_count": 0,
   "metadata": {
    "application/vnd.databricks.v1+cell": {
     "cellMetadata": {
      "byteLimit": 2048000,
      "rowLimit": 10000
     },
     "inputWidgets": {},
     "nuid": "bd452200-2249-47a5-97eb-ebd23a4b95d3",
     "showTitle": false,
     "title": ""
    }
   },
   "outputs": [
    {
     "output_type": "display_data",
     "data": {
      "text/html": [
       "<style scoped>\n",
       "  .ansiout {\n",
       "    display: block;\n",
       "    unicode-bidi: embed;\n",
       "    white-space: pre-wrap;\n",
       "    word-wrap: break-word;\n",
       "    word-break: break-all;\n",
       "    font-family: \"Menlo\", \"Monaco\", \"Consolas\", \"Ubuntu Mono\", \"Source Code Pro\", monospace;\n",
       "    font-size: 13px;\n",
       "    color: #555;\n",
       "    margin-left: 4px;\n",
       "    line-height: 19px;\n",
       "  }\n",
       "</style>\n",
       "<div class=\"ansiout\"></div>"
      ]
     },
     "metadata": {
      "application/vnd.databricks.v1+output": {
       "addedWidgets": {},
       "arguments": {},
       "data": "<div class=\"ansiout\"></div>",
       "datasetInfos": [],
       "metadata": {},
       "removedWidgets": [],
       "type": "html"
      }
     },
     "output_type": "display_data"
    }
   ],
   "source": [
    "import pyspark\n",
    "import multiprocessing"
   ]
  },
  {
   "cell_type": "code",
   "execution_count": 0,
   "metadata": {
    "application/vnd.databricks.v1+cell": {
     "cellMetadata": {
      "byteLimit": 2048000,
      "rowLimit": 10000
     },
     "inputWidgets": {},
     "nuid": "aa8fdb52-5b17-415c-9188-5270886c306d",
     "showTitle": false,
     "title": ""
    }
   },
   "outputs": [
    {
     "output_type": "display_data",
     "data": {
      "text/html": [
       "<style scoped>\n",
       "  .ansiout {\n",
       "    display: block;\n",
       "    unicode-bidi: embed;\n",
       "    white-space: pre-wrap;\n",
       "    word-wrap: break-word;\n",
       "    word-break: break-all;\n",
       "    font-family: \"Menlo\", \"Monaco\", \"Consolas\", \"Ubuntu Mono\", \"Source Code Pro\", monospace;\n",
       "    font-size: 13px;\n",
       "    color: #555;\n",
       "    margin-left: 4px;\n",
       "    line-height: 19px;\n",
       "  }\n",
       "</style>\n",
       "<div class=\"ansiout\"></div>"
      ]
     },
     "metadata": {
      "application/vnd.databricks.v1+output": {
       "addedWidgets": {},
       "arguments": {},
       "data": "<div class=\"ansiout\"></div>",
       "datasetInfos": [],
       "metadata": {},
       "removedWidgets": [],
       "type": "html"
      }
     },
     "output_type": "display_data"
    },
    {
     "output_type": "display_data",
     "data": {
      "text/html": [
       "<style scoped>\n",
       "  .ansiout {\n",
       "    display: block;\n",
       "    unicode-bidi: embed;\n",
       "    white-space: pre-wrap;\n",
       "    word-wrap: break-word;\n",
       "    word-break: break-all;\n",
       "    font-family: \"Menlo\", \"Monaco\", \"Consolas\", \"Ubuntu Mono\", \"Source Code Pro\", monospace;\n",
       "    font-size: 13px;\n",
       "    color: #555;\n",
       "    margin-left: 4px;\n",
       "    line-height: 19px;\n",
       "  }\n",
       "</style>\n",
       "<div class=\"ansiout\"></div>"
      ]
     },
     "metadata": {
      "application/vnd.databricks.v1+output": {
       "addedWidgets": {},
       "arguments": {},
       "data": "<div class=\"ansiout\"></div>",
       "datasetInfos": [],
       "metadata": {},
       "removedWidgets": [],
       "type": "html"
      }
     },
     "output_type": "display_data"
    },
    {
     "output_type": "display_data",
     "data": {
      "text/html": [
       "<style scoped>\n",
       "  .ansiout {\n",
       "    display: block;\n",
       "    unicode-bidi: embed;\n",
       "    white-space: pre-wrap;\n",
       "    word-wrap: break-word;\n",
       "    word-break: break-all;\n",
       "    font-family: \"Menlo\", \"Monaco\", \"Consolas\", \"Ubuntu Mono\", \"Source Code Pro\", monospace;\n",
       "    font-size: 13px;\n",
       "    color: #555;\n",
       "    margin-left: 4px;\n",
       "    line-height: 19px;\n",
       "  }\n",
       "</style>\n",
       "<div class=\"ansiout\"></div>"
      ]
     },
     "metadata": {
      "application/vnd.databricks.v1+output": {
       "addedWidgets": {},
       "arguments": {},
       "data": "<div class=\"ansiout\"></div>",
       "datasetInfos": [],
       "metadata": {},
       "removedWidgets": [],
       "type": "html"
      }
     },
     "output_type": "display_data"
    },
    {
     "output_type": "display_data",
     "data": {
      "text/html": [
       "<style scoped>\n",
       "  .ansiout {\n",
       "    display: block;\n",
       "    unicode-bidi: embed;\n",
       "    white-space: pre-wrap;\n",
       "    word-wrap: break-word;\n",
       "    word-break: break-all;\n",
       "    font-family: \"Menlo\", \"Monaco\", \"Consolas\", \"Ubuntu Mono\", \"Source Code Pro\", monospace;\n",
       "    font-size: 13px;\n",
       "    color: #555;\n",
       "    margin-left: 4px;\n",
       "    line-height: 19px;\n",
       "  }\n",
       "</style>\n",
       "<div class=\"ansiout\"></div>"
      ]
     },
     "metadata": {
      "application/vnd.databricks.v1+output": {
       "addedWidgets": {},
       "arguments": {},
       "data": "<div class=\"ansiout\"></div>",
       "datasetInfos": [],
       "metadata": {},
       "removedWidgets": [],
       "type": "html"
      }
     },
     "output_type": "display_data"
    },
    {
     "output_type": "display_data",
     "data": {
      "text/html": [
       "<style scoped>\n",
       "  .ansiout {\n",
       "    display: block;\n",
       "    unicode-bidi: embed;\n",
       "    white-space: pre-wrap;\n",
       "    word-wrap: break-word;\n",
       "    word-break: break-all;\n",
       "    font-family: \"Menlo\", \"Monaco\", \"Consolas\", \"Ubuntu Mono\", \"Source Code Pro\", monospace;\n",
       "    font-size: 13px;\n",
       "    color: #555;\n",
       "    margin-left: 4px;\n",
       "    line-height: 19px;\n",
       "  }\n",
       "</style>\n",
       "<div class=\"ansiout\"></div>"
      ]
     },
     "metadata": {
      "application/vnd.databricks.v1+output": {
       "addedWidgets": {},
       "arguments": {},
       "data": "<div class=\"ansiout\"></div>",
       "datasetInfos": [],
       "metadata": {},
       "removedWidgets": [],
       "type": "html"
      }
     },
     "output_type": "display_data"
    },
    {
     "output_type": "display_data",
     "data": {
      "text/html": [
       "<style scoped>\n",
       "  .ansiout {\n",
       "    display: block;\n",
       "    unicode-bidi: embed;\n",
       "    white-space: pre-wrap;\n",
       "    word-wrap: break-word;\n",
       "    word-break: break-all;\n",
       "    font-family: \"Menlo\", \"Monaco\", \"Consolas\", \"Ubuntu Mono\", \"Source Code Pro\", monospace;\n",
       "    font-size: 13px;\n",
       "    color: #555;\n",
       "    margin-left: 4px;\n",
       "    line-height: 19px;\n",
       "  }\n",
       "</style>\n",
       "<div class=\"ansiout\"></div>"
      ]
     },
     "metadata": {
      "application/vnd.databricks.v1+output": {
       "addedWidgets": {},
       "arguments": {},
       "data": "<div class=\"ansiout\"></div>",
       "datasetInfos": [],
       "metadata": {},
       "removedWidgets": [],
       "type": "html"
      }
     },
     "output_type": "display_data"
    }
   ],
   "source": [
    "%run /Users/joelcosta94i@gmail.com/data_cleaning"
   ]
  },
  {
   "cell_type": "code",
   "execution_count": 0,
   "metadata": {
    "application/vnd.databricks.v1+cell": {
     "cellMetadata": {
      "byteLimit": 2048000,
      "rowLimit": 10000
     },
     "inputWidgets": {},
     "nuid": "0ec2e8e8-fa5b-4170-8f69-4e9b2fe25fd7",
     "showTitle": false,
     "title": ""
    }
   },
   "outputs": [
    {
     "output_type": "display_data",
     "data": {
      "text/html": [
       "<style scoped>\n",
       "  .ansiout {\n",
       "    display: block;\n",
       "    unicode-bidi: embed;\n",
       "    white-space: pre-wrap;\n",
       "    word-wrap: break-word;\n",
       "    word-break: break-all;\n",
       "    font-family: \"Menlo\", \"Monaco\", \"Consolas\", \"Ubuntu Mono\", \"Source Code Pro\", monospace;\n",
       "    font-size: 13px;\n",
       "    color: #555;\n",
       "    margin-left: 4px;\n",
       "    line-height: 19px;\n",
       "  }\n",
       "</style>\n",
       "<div class=\"ansiout\"></div>"
      ]
     },
     "metadata": {
      "application/vnd.databricks.v1+output": {
       "addedWidgets": {},
       "arguments": {},
       "data": "<div class=\"ansiout\"></div>",
       "datasetInfos": [],
       "metadata": {},
       "removedWidgets": [],
       "type": "html"
      }
     },
     "output_type": "display_data"
    }
   ],
   "source": [
    "# Load the data from the S3 bucket, then clean it.\n",
    "df_pin, df_geo, df_user = load_cleaned_data()"
   ]
  },
  {
   "cell_type": "code",
   "execution_count": 0,
   "metadata": {
    "application/vnd.databricks.v1+cell": {
     "cellMetadata": {
      "byteLimit": 2048000,
      "rowLimit": 10000
     },
     "inputWidgets": {},
     "nuid": "cdb8bf33-5cc3-4844-aadb-d6da883fd380",
     "showTitle": false,
     "title": ""
    }
   },
   "outputs": [
    {
     "output_type": "display_data",
     "data": {
      "text/html": [
       "<style scoped>\n",
       "  .ansiout {\n",
       "    display: block;\n",
       "    unicode-bidi: embed;\n",
       "    white-space: pre-wrap;\n",
       "    word-wrap: break-word;\n",
       "    word-break: break-all;\n",
       "    font-family: \"Menlo\", \"Monaco\", \"Consolas\", \"Ubuntu Mono\", \"Source Code Pro\", monospace;\n",
       "    font-size: 13px;\n",
       "    color: #555;\n",
       "    margin-left: 4px;\n",
       "    line-height: 19px;\n",
       "  }\n",
       "</style>\n",
       "<div class=\"ansiout\"></div>"
      ]
     },
     "metadata": {
      "application/vnd.databricks.v1+output": {
       "addedWidgets": {},
       "arguments": {},
       "data": "<div class=\"ansiout\"></div>",
       "datasetInfos": [],
       "metadata": {},
       "removedWidgets": [],
       "type": "html"
      }
     },
     "output_type": "display_data"
    }
   ],
   "source": [
    "# Create session to run queries\n",
    "cfg = (\n",
    "    pyspark.SparkConf()\n",
    "    # Setting the master to run locally and with the maximum amount of cpu coresfor multiprocessing.\n",
    "    .setMaster(f\"local[{multiprocessing.cpu_count()}]\")\n",
    "    # Setting application name\n",
    "    .setAppName(\"TestApp\")\n",
    "    # Setting config value via string\n",
    "    .set(\"spark.eventLog.enabled\", False)\n",
    "    # Setting environment variables for executors to use\n",
    "    .setExecutorEnv(pairs=[(\"VAR3\", \"value3\"), (\"VAR4\", \"value4\")])\n",
    "    # Setting memory if this setting was not set previously\n",
    "    .setIfMissing(\"spark.executor.memory\", \"1g\")\n",
    ")\n",
    "\n",
    "session = pyspark.sql.SparkSession.builder.config(conf=cfg).getOrCreate()"
   ]
  },
  {
   "cell_type": "code",
   "execution_count": 0,
   "metadata": {
    "application/vnd.databricks.v1+cell": {
     "cellMetadata": {
      "byteLimit": 2048000,
      "rowLimit": 10000
     },
     "inputWidgets": {},
     "nuid": "ba866c1c-43d7-4d25-97ea-7744950840f4",
     "showTitle": false,
     "title": ""
    }
   },
   "outputs": [
    {
     "output_type": "display_data",
     "data": {
      "text/html": [
       "<style scoped>\n",
       "  .ansiout {\n",
       "    display: block;\n",
       "    unicode-bidi: embed;\n",
       "    white-space: pre-wrap;\n",
       "    word-wrap: break-word;\n",
       "    word-break: break-all;\n",
       "    font-family: \"Menlo\", \"Monaco\", \"Consolas\", \"Ubuntu Mono\", \"Source Code Pro\", monospace;\n",
       "    font-size: 13px;\n",
       "    color: #555;\n",
       "    margin-left: 4px;\n",
       "    line-height: 19px;\n",
       "  }\n",
       "</style>\n",
       "<div class=\"ansiout\"></div>"
      ]
     },
     "metadata": {
      "application/vnd.databricks.v1+output": {
       "addedWidgets": {},
       "arguments": {},
       "data": "<div class=\"ansiout\"></div>",
       "datasetInfos": [],
       "metadata": {},
       "removedWidgets": [],
       "type": "html"
      }
     },
     "output_type": "display_data"
    }
   ],
   "source": [
    "# Create TempViews for queries\n",
    "df_pin.createOrReplaceTempView(\"pin_table\")\n",
    "df_geo.createOrReplaceTempView(\"geo_table\")\n",
    "df_user.createOrReplaceTempView(\"user_table\")"
   ]
  },
  {
   "cell_type": "code",
   "execution_count": 0,
   "metadata": {
    "application/vnd.databricks.v1+cell": {
     "cellMetadata": {
      "byteLimit": 2048000,
      "rowLimit": 10000
     },
     "collapsed": true,
     "inputWidgets": {},
     "nuid": "dc3e0fbd-fce5-40cf-b23c-e93335896345",
     "showTitle": false,
     "title": ""
    }
   },
   "outputs": [
    {
     "output_type": "display_data",
     "data": {
      "text/html": [
       "<style scoped>\n",
       "  .ansiout {\n",
       "    display: block;\n",
       "    unicode-bidi: embed;\n",
       "    white-space: pre-wrap;\n",
       "    word-wrap: break-word;\n",
       "    word-break: break-all;\n",
       "    font-family: \"Menlo\", \"Monaco\", \"Consolas\", \"Ubuntu Mono\", \"Source Code Pro\", monospace;\n",
       "    font-size: 13px;\n",
       "    color: #555;\n",
       "    margin-left: 4px;\n",
       "    line-height: 19px;\n",
       "  }\n",
       "</style>\n",
       "<div class=\"ansiout\"></div>"
      ]
     },
     "metadata": {
      "application/vnd.databricks.v1+output": {
       "addedWidgets": {},
       "arguments": {},
       "data": "<div class=\"ansiout\"></div>",
       "datasetInfos": [],
       "metadata": {},
       "removedWidgets": [],
       "type": "html"
      }
     },
     "output_type": "display_data"
    }
   ],
   "source": [
    "# The most popular category in each country (ties allowed. to disallow ties, use ROW_NUMBER instead of RANK)\n",
    "query_popular_category_in_each_country = \"\"\"\n",
    "    WITH category_count_per_country AS\n",
    "    (\n",
    "        SELECT\n",
    "            country,\n",
    "            category,\n",
    "            COUNT(*) AS category_count,\n",
    "            RANK() OVER (\n",
    "                PARTITION BY country ORDER BY COUNT(pin_table.ind) DESC\n",
    "            ) AS rank\n",
    "        FROM\n",
    "            pin_table\n",
    "        JOIN\n",
    "            geo_table ON pin_table.ind = geo_table.ind\n",
    "        GROUP BY\n",
    "            country, category\n",
    "    )\n",
    "    SELECT\n",
    "        country,\n",
    "        category,\n",
    "        category_count\n",
    "    FROM\n",
    "        category_count_per_country\n",
    "    WHERE\n",
    "        rank = 1\n",
    "\"\"\"\n",
    "\n",
    "popular_category_in_each_country_df = session.sql(query_popular_category_in_each_country)"
   ]
  },
  {
   "cell_type": "code",
   "execution_count": 0,
   "metadata": {
    "application/vnd.databricks.v1+cell": {
     "cellMetadata": {
      "byteLimit": 2048000,
      "rowLimit": 10000
     },
     "collapsed": true,
     "inputWidgets": {},
     "nuid": "0a517401-fcb1-441f-8e9d-175f77912384",
     "showTitle": false,
     "title": ""
    }
   },
   "outputs": [
    {
     "output_type": "display_data",
     "data": {
      "text/html": [
       "<style scoped>\n",
       "  .ansiout {\n",
       "    display: block;\n",
       "    unicode-bidi: embed;\n",
       "    white-space: pre-wrap;\n",
       "    word-wrap: break-word;\n",
       "    word-break: break-all;\n",
       "    font-family: \"Menlo\", \"Monaco\", \"Consolas\", \"Ubuntu Mono\", \"Source Code Pro\", monospace;\n",
       "    font-size: 13px;\n",
       "    color: #555;\n",
       "    margin-left: 4px;\n",
       "    line-height: 19px;\n",
       "  }\n",
       "</style>\n",
       "<div class=\"ansiout\"></div>"
      ]
     },
     "metadata": {
      "application/vnd.databricks.v1+output": {
       "addedWidgets": {},
       "arguments": {},
       "data": "<div class=\"ansiout\"></div>",
       "datasetInfos": [],
       "metadata": {},
       "removedWidgets": [],
       "type": "html"
      }
     },
     "output_type": "display_data"
    }
   ],
   "source": [
    "# Most popular category each year (ties allowed. to disallow ties, use ROW_NUMBER instead of RANK)\n",
    "query_popular_category_each_year = \"\"\"\n",
    "    WITH category_count_per_year AS (\n",
    "    SELECT\n",
    "        YEAR(timestamp) AS post_year,\n",
    "        category,\n",
    "        COUNT(*) AS category_count,\n",
    "        RANK() OVER (\n",
    "            PARTITION BY\n",
    "                YEAR(timestamp)\n",
    "            ORDER BY\n",
    "                COUNT(pin_table.ind) DESC\n",
    "        ) AS rank\n",
    "    FROM\n",
    "        pin_table\n",
    "    JOIN\n",
    "        geo_table ON pin_table.ind = geo_table.ind\n",
    "    GROUP BY\n",
    "        YEAR(timestamp), category\n",
    "    )\n",
    "    SELECT\n",
    "        post_year,\n",
    "        category,\n",
    "        category_count\n",
    "    FROM\n",
    "        category_count_per_year\n",
    "    WHERE\n",
    "        rank = 1   \n",
    "\"\"\"\n",
    "\n",
    "popular_category_each_year_df = session.sql(query_popular_category_each_year)"
   ]
  },
  {
   "cell_type": "code",
   "execution_count": 0,
   "metadata": {
    "application/vnd.databricks.v1+cell": {
     "cellMetadata": {
      "byteLimit": 2048000,
      "rowLimit": 10000
     },
     "collapsed": true,
     "inputWidgets": {},
     "nuid": "9a45d764-929f-4b4c-af5b-842e4e38ec0d",
     "showTitle": false,
     "title": ""
    }
   },
   "outputs": [
    {
     "output_type": "display_data",
     "data": {
      "text/html": [
       "<style scoped>\n",
       "  .ansiout {\n",
       "    display: block;\n",
       "    unicode-bidi: embed;\n",
       "    white-space: pre-wrap;\n",
       "    word-wrap: break-word;\n",
       "    word-break: break-all;\n",
       "    font-family: \"Menlo\", \"Monaco\", \"Consolas\", \"Ubuntu Mono\", \"Source Code Pro\", monospace;\n",
       "    font-size: 13px;\n",
       "    color: #555;\n",
       "    margin-left: 4px;\n",
       "    line-height: 19px;\n",
       "  }\n",
       "</style>\n",
       "<div class=\"ansiout\">+--------------------+--------------------+--------------+\n",
       "             country|         poster_name|follower_count|\n",
       "+--------------------+--------------------+--------------+\n",
       "         Afghanistan|             Walmart|       2000000|\n",
       "             Albania|          MojisStyle|        117000|\n",
       "             Algeria|        ELLE Germany|        326000|\n",
       "      American Samoa|            BuzzFeed|       5000000|\n",
       "             Andorra|Teachers Pay Teac...|       1000000|\n",
       "              Angola|     CraftGossip.com|        502000|\n",
       "            Anguilla|Kristen | Lifesty...|         92000|\n",
       "Antarctica (the t...|            HikenDip|        500000|\n",
       " Antigua and Barbuda|Sumcoco | Decor I...|        306000|\n",
       "           Argentina|         Next Luxury|        800000|\n",
       "             Armenia|Michelle {CraftyM...|        892000|\n",
       "               Aruba|     TheTrendSpotter|        211000|\n",
       "           Australia|   Cultura Colectiva|       1000000|\n",
       "             Austria|The World Pursuit...|         89000|\n",
       "          Azerbaijan|     Style Me Pretty|       6000000|\n",
       "             Bahrain|R.J. Weiss at The...|         46000|\n",
       "          Bangladesh|Architectural Digest|       3000000|\n",
       "            Barbados|The Creativity Ex...|        410000|\n",
       "             Bermuda|Life on Summerhil...|         46000|\n",
       "              Bhutan|Kids Crafts &amp; Fre...|          3000|\n",
       "+--------------------+--------------------+--------------+\n",
       "only showing top 20 rows\n",
       "\n",
       "</div>"
      ]
     },
     "metadata": {
      "application/vnd.databricks.v1+output": {
       "addedWidgets": {},
       "arguments": {},
       "data": "<div class=\"ansiout\">+--------------------+--------------------+--------------+\n|             country|         poster_name|follower_count|\n+--------------------+--------------------+--------------+\n|         Afghanistan|             Walmart|       2000000|\n|             Albania|          MojisStyle|        117000|\n|             Algeria|        ELLE Germany|        326000|\n|      American Samoa|            BuzzFeed|       5000000|\n|             Andorra|Teachers Pay Teac...|       1000000|\n|              Angola|     CraftGossip.com|        502000|\n|            Anguilla|Kristen | Lifesty...|         92000|\n|Antarctica (the t...|            HikenDip|        500000|\n| Antigua and Barbuda|Sumcoco | Decor I...|        306000|\n|           Argentina|         Next Luxury|        800000|\n|             Armenia|Michelle {CraftyM...|        892000|\n|               Aruba|     TheTrendSpotter|        211000|\n|           Australia|   Cultura Colectiva|       1000000|\n|             Austria|The World Pursuit...|         89000|\n|          Azerbaijan|     Style Me Pretty|       6000000|\n|             Bahrain|R.J. Weiss at The...|         46000|\n|          Bangladesh|Architectural Digest|       3000000|\n|            Barbados|The Creativity Ex...|        410000|\n|             Bermuda|Life on Summerhil...|         46000|\n|              Bhutan|Kids Crafts &amp; Fre...|          3000|\n+--------------------+--------------------+--------------+\nonly showing top 20 rows\n\n</div>",
       "datasetInfos": [],
       "metadata": {},
       "removedWidgets": [],
       "type": "html"
      }
     },
     "output_type": "display_data"
    }
   ],
   "source": [
    "# Most followers in each country (ties allowed. to disallow ties, use ROW_NUMBER instead of RANK)\n",
    "query_most_followers_per_country = \"\"\"\n",
    "    WITH ranked_poster_country_followers_table AS (\n",
    "    SELECT\n",
    "        country,\n",
    "        poster_name,\n",
    "        follower_count,\n",
    "        RANK() OVER (\n",
    "            PARTITION BY\n",
    "                country\n",
    "            ORDER BY\n",
    "                follower_count DESC\n",
    "        ) AS rank\n",
    "    FROM\n",
    "        pin_table\n",
    "    JOIN\n",
    "        geo_table ON pin_table.ind = geo_table.ind\n",
    "    GROUP BY\n",
    "        poster_name, country, follower_count\n",
    "    )\n",
    "    SELECT\n",
    "        country,\n",
    "        poster_name,\n",
    "        follower_count\n",
    "    FROM\n",
    "        ranked_poster_country_followers_table\n",
    "    WHERE\n",
    "        rank = 1\n",
    "\"\"\"\n",
    "\n",
    "most_followers_per_country_df = session.sql(query_most_followers_per_country)\n",
    "most_followers_per_country_df.show()\n",
    "\n",
    "# country with most followers\n",
    "most_followers_per_country_df.createOrReplaceTempView(\"most_followers_per_country_table\")\n",
    "query_country_with_most_followers = \"\"\"\n",
    "    SELECT\n",
    "        country,\n",
    "        follower_count\n",
    "    FROM\n",
    "        most_followers_per_country_table\n",
    "    ORDER BY\n",
    "        follower_count DESC\n",
    "    LIMIT 1\n",
    "\"\"\"\n",
    "\n",
    "country_with_most_followers_df = session.sql(query_country_with_most_followers)"
   ]
  },
  {
   "cell_type": "code",
   "execution_count": 0,
   "metadata": {
    "application/vnd.databricks.v1+cell": {
     "cellMetadata": {
      "byteLimit": 2048000,
      "rowLimit": 10000
     },
     "collapsed": true,
     "inputWidgets": {},
     "nuid": "c327954d-c47e-44c7-bf53-31517f61bf8f",
     "showTitle": false,
     "title": ""
    }
   },
   "outputs": [
    {
     "output_type": "display_data",
     "data": {
      "text/html": [
       "<style scoped>\n",
       "  .ansiout {\n",
       "    display: block;\n",
       "    unicode-bidi: embed;\n",
       "    white-space: pre-wrap;\n",
       "    word-wrap: break-word;\n",
       "    word-break: break-all;\n",
       "    font-family: \"Menlo\", \"Monaco\", \"Consolas\", \"Ubuntu Mono\", \"Source Code Pro\", monospace;\n",
       "    font-size: 13px;\n",
       "    color: #555;\n",
       "    margin-left: 4px;\n",
       "    line-height: 19px;\n",
       "  }\n",
       "</style>\n",
       "<div class=\"ansiout\"></div>"
      ]
     },
     "metadata": {
      "application/vnd.databricks.v1+output": {
       "addedWidgets": {},
       "arguments": {},
       "data": "<div class=\"ansiout\"></div>",
       "datasetInfos": [],
       "metadata": {},
       "removedWidgets": [],
       "type": "html"
      }
     },
     "output_type": "display_data"
    }
   ],
   "source": [
    "# Most popular category for different age groups (ties allowed. to disallow ties, use ROW_NUMBER instead of RANK)\n",
    "query_popular_category_per_age_group = \"\"\"\n",
    "    WITH age_group_category_table AS\n",
    "    (\n",
    "        SELECT\n",
    "            category,\n",
    "            CASE\n",
    "                WHEN age BETWEEN 18 AND 24 THEN '18-24'\n",
    "                WHEN age BETWEEN 25 AND 35 THEN '25-35'\n",
    "                WHEN age BETWEEN 36 AND 50 THEN '36-50'\n",
    "                ELSE '+50'\n",
    "            END AS age_group\n",
    "        FROM\n",
    "            pin_table\n",
    "        JOIN\n",
    "            user_table ON pin_table.ind = user_table.ind\n",
    "    ),\n",
    "    ranked_age_group_category_table AS\n",
    "    (\n",
    "        SELECT\n",
    "            age_group,\n",
    "            category,\n",
    "            COUNT(*) AS category_count,\n",
    "            RANK() OVER (\n",
    "                PARTITION BY\n",
    "                    age_group\n",
    "                ORDER BY\n",
    "                    COUNT(*) DESC\n",
    "            ) AS rank\n",
    "        FROM\n",
    "            age_group_category_table\n",
    "        GROUP BY\n",
    "            age_group, category\n",
    "    )\n",
    "    SELECT\n",
    "        age_group,\n",
    "        category,\n",
    "        category_count\n",
    "    FROM\n",
    "        ranked_age_group_category_table\n",
    "    WHERE\n",
    "        rank = 1\n",
    "\"\"\"\n",
    "\n",
    "popular_category_per_age_group_df = session.sql(query_popular_category_per_age_group)"
   ]
  },
  {
   "cell_type": "code",
   "execution_count": 0,
   "metadata": {
    "application/vnd.databricks.v1+cell": {
     "cellMetadata": {
      "byteLimit": 2048000,
      "rowLimit": 10000
     },
     "collapsed": true,
     "inputWidgets": {},
     "nuid": "c1df7bc0-d74c-4dd7-b91d-432d7b938dda",
     "showTitle": false,
     "title": ""
    }
   },
   "outputs": [
    {
     "output_type": "display_data",
     "data": {
      "text/html": [
       "<style scoped>\n",
       "  .ansiout {\n",
       "    display: block;\n",
       "    unicode-bidi: embed;\n",
       "    white-space: pre-wrap;\n",
       "    word-wrap: break-word;\n",
       "    word-break: break-all;\n",
       "    font-family: \"Menlo\", \"Monaco\", \"Consolas\", \"Ubuntu Mono\", \"Source Code Pro\", monospace;\n",
       "    font-size: 13px;\n",
       "    color: #555;\n",
       "    margin-left: 4px;\n",
       "    line-height: 19px;\n",
       "  }\n",
       "</style>\n",
       "<div class=\"ansiout\"></div>"
      ]
     },
     "metadata": {
      "application/vnd.databricks.v1+output": {
       "addedWidgets": {},
       "arguments": {},
       "data": "<div class=\"ansiout\"></div>",
       "datasetInfos": [],
       "metadata": {},
       "removedWidgets": [],
       "type": "html"
      }
     },
     "output_type": "display_data"
    }
   ],
   "source": [
    "# Median follower count for different age groups\n",
    "query_median_follower_count_per_age_group = \"\"\"\n",
    "    WITH age_group_follower_count_table AS\n",
    "    (\n",
    "        SELECT\n",
    "            follower_count,\n",
    "            CASE\n",
    "                WHEN age BETWEEN 18 AND 24 THEN '18-24'\n",
    "                WHEN age BETWEEN 25 AND 35 THEN '25-35'\n",
    "                WHEN age BETWEEN 36 AND 50 THEN '36-50'\n",
    "                ELSE '+50'\n",
    "            END AS age_group\n",
    "        FROM\n",
    "            pin_table\n",
    "        JOIN\n",
    "            user_table ON pin_table.ind = user_table.ind\n",
    "    )\n",
    "    SELECT\n",
    "        age_group,\n",
    "        PERCENTILE_CONT(0.5) WITHIN GROUP(ORDER BY follower_count) AS median_follower_count\n",
    "    FROM\n",
    "        age_group_follower_count_table\n",
    "    GROUP BY\n",
    "        age_group\n",
    "    ORDER BY\n",
    "        CASE\n",
    "            WHEN age_group = '18-24' THEN 10\n",
    "            WHEN age_group = '25-35' THEN 20\n",
    "            WHEN age_group = '36-50' THEN 30\n",
    "            ELSE 100\n",
    "        END\n",
    "\"\"\"\n",
    "\n",
    "median_follower_count_per_age_group_df = session.sql(query_median_follower_count_per_age_group)"
   ]
  },
  {
   "cell_type": "code",
   "execution_count": 0,
   "metadata": {
    "application/vnd.databricks.v1+cell": {
     "cellMetadata": {
      "byteLimit": 2048000,
      "rowLimit": 10000
     },
     "collapsed": true,
     "inputWidgets": {},
     "nuid": "a113a39c-d3a5-46a7-a36e-2ac892434c52",
     "showTitle": false,
     "title": ""
    }
   },
   "outputs": [
    {
     "output_type": "display_data",
     "data": {
      "text/html": [
       "<style scoped>\n",
       "  .ansiout {\n",
       "    display: block;\n",
       "    unicode-bidi: embed;\n",
       "    white-space: pre-wrap;\n",
       "    word-wrap: break-word;\n",
       "    word-break: break-all;\n",
       "    font-family: \"Menlo\", \"Monaco\", \"Consolas\", \"Ubuntu Mono\", \"Source Code Pro\", monospace;\n",
       "    font-size: 13px;\n",
       "    color: #555;\n",
       "    margin-left: 4px;\n",
       "    line-height: 19px;\n",
       "  }\n",
       "</style>\n",
       "<div class=\"ansiout\"></div>"
      ]
     },
     "metadata": {
      "application/vnd.databricks.v1+output": {
       "addedWidgets": {},
       "arguments": {},
       "data": "<div class=\"ansiout\"></div>",
       "datasetInfos": [],
       "metadata": {},
       "removedWidgets": [],
       "type": "html"
      }
     },
     "output_type": "display_data"
    }
   ],
   "source": [
    "# Number of users joined each year between 2015-2020\n",
    "query_users_joined_per_year = \"\"\"\n",
    "    SELECT\n",
    "        YEAR(date_joined) AS post_year,\n",
    "        COUNT(*) AS number_users_joined\n",
    "    FROM\n",
    "        user_table\n",
    "    GROUP BY\n",
    "        YEAR(date_joined)\n",
    "    HAVING\n",
    "        YEAR(date_joined) BETWEEN 2015 AND 2020\n",
    "    ORDER BY\n",
    "        post_year\n",
    "\"\"\"\n",
    "\n",
    "query_users_joined_per_year_df = session.sql(query_users_joined_per_year)"
   ]
  },
  {
   "cell_type": "code",
   "execution_count": 0,
   "metadata": {
    "application/vnd.databricks.v1+cell": {
     "cellMetadata": {
      "byteLimit": 2048000,
      "rowLimit": 10000
     },
     "collapsed": true,
     "inputWidgets": {},
     "nuid": "a8a8143a-0d1d-4242-8dee-262112b0a6e8",
     "showTitle": false,
     "title": ""
    }
   },
   "outputs": [
    {
     "output_type": "display_data",
     "data": {
      "text/html": [
       "<style scoped>\n",
       "  .ansiout {\n",
       "    display: block;\n",
       "    unicode-bidi: embed;\n",
       "    white-space: pre-wrap;\n",
       "    word-wrap: break-word;\n",
       "    word-break: break-all;\n",
       "    font-family: \"Menlo\", \"Monaco\", \"Consolas\", \"Ubuntu Mono\", \"Source Code Pro\", monospace;\n",
       "    font-size: 13px;\n",
       "    color: #555;\n",
       "    margin-left: 4px;\n",
       "    line-height: 19px;\n",
       "  }\n",
       "</style>\n",
       "<div class=\"ansiout\"></div>"
      ]
     },
     "metadata": {
      "application/vnd.databricks.v1+output": {
       "addedWidgets": {},
       "arguments": {},
       "data": "<div class=\"ansiout\"></div>",
       "datasetInfos": [],
       "metadata": {},
       "removedWidgets": [],
       "type": "html"
      }
     },
     "output_type": "display_data"
    }
   ],
   "source": [
    "# Median follower count of users based on their joining year.\n",
    "query_median_follower_count_per_joining_year = \"\"\"\n",
    "    SELECT\n",
    "        YEAR(date_joined) AS year_joined,\n",
    "        PERCENTILE_CONT(0.5) WITHIN GROUP(ORDER BY follower_count) AS median_follower_count\n",
    "    FROM\n",
    "        user_table\n",
    "    JOIN\n",
    "        pin_data ON user_table.ind = pin_data.ind\n",
    "    GROUP BY\n",
    "        YEAR(date_joined)\n",
    "    HAVING\n",
    "        YEAR(date_joined) BETWEEN 2015 and 2020\n",
    "    ORDER BY\n",
    "        year_joined\n",
    "\"\"\"\n",
    "\n",
    "median_follower_count_per_joining_year_df = session.sql(query_median_follower_count_per_joining_year)"
   ]
  },
  {
   "cell_type": "code",
   "execution_count": 0,
   "metadata": {
    "application/vnd.databricks.v1+cell": {
     "cellMetadata": {
      "byteLimit": 2048000,
      "rowLimit": 10000
     },
     "collapsed": true,
     "inputWidgets": {},
     "nuid": "da182963-dde5-4ce4-9818-408856127407",
     "showTitle": false,
     "title": ""
    }
   },
   "outputs": [
    {
     "output_type": "display_data",
     "data": {
      "text/html": [
       "<style scoped>\n",
       "  .ansiout {\n",
       "    display: block;\n",
       "    unicode-bidi: embed;\n",
       "    white-space: pre-wrap;\n",
       "    word-wrap: break-word;\n",
       "    word-break: break-all;\n",
       "    font-family: \"Menlo\", \"Monaco\", \"Consolas\", \"Ubuntu Mono\", \"Source Code Pro\", monospace;\n",
       "    font-size: 13px;\n",
       "    color: #555;\n",
       "    margin-left: 4px;\n",
       "    line-height: 19px;\n",
       "  }\n",
       "</style>\n",
       "<div class=\"ansiout\"></div>"
      ]
     },
     "metadata": {
      "application/vnd.databricks.v1+output": {
       "addedWidgets": {},
       "arguments": {},
       "data": "<div class=\"ansiout\"></div>",
       "datasetInfos": [],
       "metadata": {},
       "removedWidgets": [],
       "type": "html"
      }
     },
     "output_type": "display_data"
    }
   ],
   "source": [
    "# Median follower count of users based on joining year and age group\n",
    "query_median_follower_count_per_age_group_and_joining_year = \"\"\"\n",
    "    WITH follower_count_age_group_post_year_table AS\n",
    "    (\n",
    "        SELECT\n",
    "            CASE\n",
    "                WHEN age BETWEEN 18 AND 24 THEN '18-24'\n",
    "                WHEN age BETWEEN 25 AND 35 THEN '25-35'\n",
    "                WHEN age BETWEEN 36 AND 50 THEN '36-50'\n",
    "                ELSE '+50' \n",
    "            END AS age_group,\n",
    "            YEAR(timestamp) AS post_year,\n",
    "            follower_count\n",
    "        FROM\n",
    "            pin_table\n",
    "        JOIN\n",
    "            geo_table ON pin_table.ind = geo_table.ind\n",
    "        JOIN\n",
    "            user_table ON pin_table.ind = user_table.ind\n",
    "    )\n",
    "    SELECT\n",
    "        age_group,\n",
    "        post_year,\n",
    "        PERCENTILE_CONT(0.5) WITHIN GROUP(ORDER BY follower_count) AS median_follower_count\n",
    "    FROM\n",
    "        follower_count_age_group_post_year_table\n",
    "    GROUP BY\n",
    "        age_group, post_year\n",
    "    ORDER BY\n",
    "        CASE\n",
    "            WHEN age_group = '18-24' THEN 10\n",
    "            WHEN age_group = '25-35' THEN 20\n",
    "            WHEN age_group = '36-50' THEN 30\n",
    "            ELSE 100\n",
    "        END,\n",
    "        post_year\n",
    "\"\"\"\n",
    "\n",
    "median_follower_count_per_age_group_and_joining_year_df = session.sql(query_median_follower_count_per_age_group_and_joining_year)"
   ]
  },
  {
   "cell_type": "code",
   "execution_count": 0,
   "metadata": {
    "application/vnd.databricks.v1+cell": {
     "cellMetadata": {},
     "collapsed": true,
     "inputWidgets": {},
     "nuid": "a88dbd1e-b7e4-4337-9c3e-bb622a759177",
     "showTitle": false,
     "title": ""
    }
   },
   "outputs": [],
   "source": []
  }
 ],
 "metadata": {
  "application/vnd.databricks.v1+notebook": {
   "dashboards": [],
   "language": "python",
   "notebookMetadata": {
    "mostRecentlyExecutedCommandWithImplicitDF": {
     "commandId": 3517346714648636,
     "dataframes": [
      "_sqldf"
     ]
    },
    "pythonIndentUnit": 4
   },
   "notebookName": "queries",
   "widgets": {}
  }
 },
 "nbformat": 4,
 "nbformat_minor": 0
}
